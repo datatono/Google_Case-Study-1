{
 "cells": [
  {
   "cell_type": "code",
   "execution_count": 1,
   "id": "21d8f265",
   "metadata": {
    "_cell_guid": "b1076dfc-b9ad-4769-8c92-a6c4dae69d19",
    "_uuid": "8f2839f25d086af736a60e9eeb907d3b93b6e0e5",
    "execution": {
     "iopub.execute_input": "2023-07-15T13:34:35.096301Z",
     "iopub.status.busy": "2023-07-15T13:34:35.095878Z",
     "iopub.status.idle": "2023-07-15T13:34:35.112484Z",
     "shell.execute_reply": "2023-07-15T13:34:35.111240Z"
    },
    "papermill": {
     "duration": 0.028328,
     "end_time": "2023-07-15T13:34:35.115292",
     "exception": false,
     "start_time": "2023-07-15T13:34:35.086964",
     "status": "completed"
    },
    "tags": []
   },
   "outputs": [
    {
     "name": "stdout",
     "output_type": "stream",
     "text": [
      "/kaggle/input/goalzone-fitness-data/ASDS_DatacampFinal_fitness_class_2212_07.13.2023 - fitness_class_2212.csv\n"
     ]
    }
   ],
   "source": [
    "# This Python 3 environment comes with many helpful analytics libraries installed\n",
    "# It is defined by the kaggle/python Docker image: https://github.com/kaggle/docker-python\n",
    "# For example, here's several helpful packages to load\n",
    "\n",
    "import numpy as np # linear algebra\n",
    "import pandas as pd # data processing, CSV file I/O (e.g. pd.read_csv)\n",
    "\n",
    "# Input data files are available in the read-only \"../input/\" directory\n",
    "# For example, running this (by clicking run or pressing Shift+Enter) will list all files under the input directory\n",
    "\n",
    "import os\n",
    "for dirname, _, filenames in os.walk('/kaggle/input'):\n",
    "    for filename in filenames:\n",
    "        print(os.path.join(dirname, filename))\n",
    "\n",
    "# You can write up to 20GB to the current directory (/kaggle/working/) that gets preserved as output when you create a version using \"Save & Run All\" \n",
    "# You can also write temporary files to /kaggle/temp/, but they won't be saved outside of the current session"
   ]
  },
  {
   "cell_type": "markdown",
   "id": "3839a4f6",
   "metadata": {
    "papermill": {
     "duration": 0.005982,
     "end_time": "2023-07-15T13:34:35.127945",
     "exception": false,
     "start_time": "2023-07-15T13:34:35.121963",
     "status": "completed"
    },
    "tags": []
   },
   "source": [
    "**Company Background:**\n",
    "GoalZone is a fitness club chain in Canada.\n",
    "GoalZone offers a range of fitness classes in two capacities - 25 and 15.\n",
    "Some classes are always fully booked. Fully booked classes often have a low attendance rate.\n",
    "GoalZone wants to increase the number of spaces available for classes.\n",
    "They want to do this by predicting whether the member will attend the class or not.\n",
    "If they can predict a member will not attend the class, they can make another space\n",
    "availab"
   ]
  },
  {
   "cell_type": "markdown",
   "id": "618c868c",
   "metadata": {
    "papermill": {
     "duration": 0.005992,
     "end_time": "2023-07-15T13:34:35.140354",
     "exception": false,
     "start_time": "2023-07-15T13:34:35.134362",
     "status": "completed"
    },
    "tags": []
   },
   "source": [
    "**Tasks & Company Questions:**\n",
    "Write your answers in your workspace.\n",
    "1. For every column in the data:\n",
    "    a. State whether the values match the description given in the table above.\n",
    "    b. State the number of missing values in the column.\n",
    "    c. Describe what you did to make values match the description if they did not match.\n",
    "\n",
    "2. Create a visualization that shows how many bookings attended the class. Use the\n",
    "visualization to:\n",
    "a. State which category of the variable attended has the most observations\n",
    "b. Explain whether the observations are balanced across categories of the\n",
    "variable attended\n",
    "\n",
    "3. Describe the distribution of the number of months as a member. Your answer must\n",
    "include a visualization that shows the distribution.\n",
    "\n",
    "4. Describe the relationship between attendance and number of months as a member.\n",
    "Your answer must include a visualization to demonstrate the relationship.\n",
    "\n",
    "5. The business wants to predict whether members will attend using the data provided.\n",
    "State the type of machine learning problem that this is (regression/ classification/\n",
    "clustering).\n",
    "\n",
    "6. Fit a baseline model to predict whether members will attend using the data provided.\n",
    "You must include your code.\n",
    "\n",
    "7. Fit a comparison model to predict whether members will attend using the data\n",
    "provided. You must include your code.\n",
    "\n",
    "8. Explain why you chose the two models used in parts 6 and 7.\n",
    "\n",
    "9. Compare the performance of the two models used in parts 6 and 7, using any method\n",
    "suitable. You must include your code.\n",
    "\n",
    "10. Explain which model performs better and why"
   ]
  },
  {
   "cell_type": "markdown",
   "id": "0075d959",
   "metadata": {
    "papermill": {
     "duration": 0.006457,
     "end_time": "2023-07-15T13:34:35.154680",
     "exception": false,
     "start_time": "2023-07-15T13:34:35.148223",
     "status": "completed"
    },
    "tags": []
   },
   "source": [
    "**Section 1**"
   ]
  },
  {
   "cell_type": "markdown",
   "id": "065acc06",
   "metadata": {
    "papermill": {
     "duration": 0.006175,
     "end_time": "2023-07-15T13:34:35.167523",
     "exception": false,
     "start_time": "2023-07-15T13:34:35.161348",
     "status": "completed"
    },
    "tags": []
   },
   "source": [
    "**Loading the necessary libraries and files to begin analysis on the dataset. We will print and view the first 5 rows of the dataset.**"
   ]
  },
  {
   "cell_type": "code",
   "execution_count": 2,
   "id": "a6347bb3",
   "metadata": {
    "execution": {
     "iopub.execute_input": "2023-07-15T13:34:35.182703Z",
     "iopub.status.busy": "2023-07-15T13:34:35.181870Z",
     "iopub.status.idle": "2023-07-15T13:34:36.745482Z",
     "shell.execute_reply": "2023-07-15T13:34:36.744257Z"
    },
    "papermill": {
     "duration": 1.574286,
     "end_time": "2023-07-15T13:34:36.748150",
     "exception": false,
     "start_time": "2023-07-15T13:34:35.173864",
     "status": "completed"
    },
    "tags": []
   },
   "outputs": [
    {
     "name": "stderr",
     "output_type": "stream",
     "text": [
      "/opt/conda/lib/python3.10/site-packages/scipy/__init__.py:146: UserWarning: A NumPy version >=1.16.5 and <1.23.0 is required for this version of SciPy (detected version 1.23.5\n",
      "  warnings.warn(f\"A NumPy version >={np_minversion} and <{np_maxversion}\"\n"
     ]
    },
    {
     "name": "stdout",
     "output_type": "stream",
     "text": [
      "Number of rows: 1500\n",
      "Number of columns: 8\n"
     ]
    },
    {
     "data": {
      "text/html": [
       "<div>\n",
       "<style scoped>\n",
       "    .dataframe tbody tr th:only-of-type {\n",
       "        vertical-align: middle;\n",
       "    }\n",
       "\n",
       "    .dataframe tbody tr th {\n",
       "        vertical-align: top;\n",
       "    }\n",
       "\n",
       "    .dataframe thead th {\n",
       "        text-align: right;\n",
       "    }\n",
       "</style>\n",
       "<table border=\"1\" class=\"dataframe\">\n",
       "  <thead>\n",
       "    <tr style=\"text-align: right;\">\n",
       "      <th></th>\n",
       "      <th>booking_id</th>\n",
       "      <th>months_as_member</th>\n",
       "      <th>weight</th>\n",
       "      <th>days_before</th>\n",
       "      <th>day_of_week</th>\n",
       "      <th>time</th>\n",
       "      <th>category</th>\n",
       "      <th>attended</th>\n",
       "    </tr>\n",
       "  </thead>\n",
       "  <tbody>\n",
       "    <tr>\n",
       "      <th>0</th>\n",
       "      <td>1</td>\n",
       "      <td>17</td>\n",
       "      <td>79.56</td>\n",
       "      <td>8</td>\n",
       "      <td>Wed</td>\n",
       "      <td>PM</td>\n",
       "      <td>Strength</td>\n",
       "      <td>0</td>\n",
       "    </tr>\n",
       "    <tr>\n",
       "      <th>1</th>\n",
       "      <td>2</td>\n",
       "      <td>10</td>\n",
       "      <td>79.01</td>\n",
       "      <td>2</td>\n",
       "      <td>Mon</td>\n",
       "      <td>AM</td>\n",
       "      <td>HIIT</td>\n",
       "      <td>0</td>\n",
       "    </tr>\n",
       "    <tr>\n",
       "      <th>2</th>\n",
       "      <td>3</td>\n",
       "      <td>16</td>\n",
       "      <td>74.53</td>\n",
       "      <td>14</td>\n",
       "      <td>Sun</td>\n",
       "      <td>AM</td>\n",
       "      <td>Strength</td>\n",
       "      <td>0</td>\n",
       "    </tr>\n",
       "    <tr>\n",
       "      <th>3</th>\n",
       "      <td>4</td>\n",
       "      <td>5</td>\n",
       "      <td>86.12</td>\n",
       "      <td>10</td>\n",
       "      <td>Fri</td>\n",
       "      <td>AM</td>\n",
       "      <td>Cycling</td>\n",
       "      <td>0</td>\n",
       "    </tr>\n",
       "    <tr>\n",
       "      <th>4</th>\n",
       "      <td>5</td>\n",
       "      <td>15</td>\n",
       "      <td>69.29</td>\n",
       "      <td>8</td>\n",
       "      <td>Thu</td>\n",
       "      <td>AM</td>\n",
       "      <td>HIIT</td>\n",
       "      <td>0</td>\n",
       "    </tr>\n",
       "  </tbody>\n",
       "</table>\n",
       "</div>"
      ],
      "text/plain": [
       "   booking_id  months_as_member  weight days_before day_of_week time  \\\n",
       "0           1                17   79.56           8         Wed   PM   \n",
       "1           2                10   79.01           2         Mon   AM   \n",
       "2           3                16   74.53          14         Sun   AM   \n",
       "3           4                 5   86.12          10         Fri   AM   \n",
       "4           5                15   69.29           8         Thu   AM   \n",
       "\n",
       "   category  attended  \n",
       "0  Strength         0  \n",
       "1      HIIT         0  \n",
       "2  Strength         0  \n",
       "3   Cycling         0  \n",
       "4      HIIT         0  "
      ]
     },
     "execution_count": 2,
     "metadata": {},
     "output_type": "execute_result"
    }
   ],
   "source": [
    "#Import libraries\n",
    "import numpy as np\n",
    "import pandas as pd\n",
    "import matplotlib.pyplot as plt\n",
    "import seaborn as sns\n",
    "\n",
    "#Read data\n",
    "df = pd.read_csv('/kaggle/input/goalzone-fitness-data/ASDS_DatacampFinal_fitness_class_2212_07.13.2023 - fitness_class_2212.csv')\n",
    "\n",
    "#Print the number of rows and columns using shape\n",
    "num_rows, num_cols = df.shape\n",
    "print(\"Number of rows:\", num_rows)\n",
    "print(\"Number of columns:\", num_cols)\n",
    "\n",
    "#Quick view of the fist 5 rows of the dataset\n",
    "df.head()"
   ]
  },
  {
   "cell_type": "markdown",
   "id": "c05d7fad",
   "metadata": {
    "papermill": {
     "duration": 0.006593,
     "end_time": "2023-07-15T13:34:36.761402",
     "exception": false,
     "start_time": "2023-07-15T13:34:36.754809",
     "status": "completed"
    },
    "tags": []
   },
   "source": [
    "**Data Validation** The following scripts will address all parts to question one. At the end a summary report will be provided for the question.\n"
   ]
  },
  {
   "cell_type": "code",
   "execution_count": 3,
   "id": "846d915d",
   "metadata": {
    "execution": {
     "iopub.execute_input": "2023-07-15T13:34:36.779181Z",
     "iopub.status.busy": "2023-07-15T13:34:36.778741Z",
     "iopub.status.idle": "2023-07-15T13:34:36.807874Z",
     "shell.execute_reply": "2023-07-15T13:34:36.806322Z"
    },
    "papermill": {
     "duration": 0.042765,
     "end_time": "2023-07-15T13:34:36.810547",
     "exception": false,
     "start_time": "2023-07-15T13:34:36.767782",
     "status": "completed"
    },
    "tags": []
   },
   "outputs": [
    {
     "name": "stdout",
     "output_type": "stream",
     "text": [
      "<class 'pandas.core.frame.DataFrame'>\n",
      "RangeIndex: 1500 entries, 0 to 1499\n",
      "Data columns (total 8 columns):\n",
      " #   Column            Non-Null Count  Dtype  \n",
      "---  ------            --------------  -----  \n",
      " 0   booking_id        1500 non-null   int64  \n",
      " 1   months_as_member  1500 non-null   int64  \n",
      " 2   weight            1480 non-null   float64\n",
      " 3   days_before       1500 non-null   object \n",
      " 4   day_of_week       1500 non-null   object \n",
      " 5   time              1500 non-null   object \n",
      " 6   category          1500 non-null   object \n",
      " 7   attended          1500 non-null   int64  \n",
      "dtypes: float64(1), int64(3), object(4)\n",
      "memory usage: 93.9+ KB\n"
     ]
    }
   ],
   "source": [
    "#Looking at the data types\n",
    "df.info()"
   ]
  },
  {
   "cell_type": "markdown",
   "id": "7607c02c",
   "metadata": {
    "papermill": {
     "duration": 0.006258,
     "end_time": "2023-07-15T13:34:36.823544",
     "exception": false,
     "start_time": "2023-07-15T13:34:36.817286",
     "status": "completed"
    },
    "tags": []
   },
   "source": [
    "\n",
    "We will perform data validation to answer these questions from the assignment:\n",
    "1. For every column in the data:\n",
    "    a. State whether the values match the description given in the table above.\n",
    "    b. State the number of missing values in the column.\n",
    "    c. Describe what you did to make values match the description if they did not match."
   ]
  },
  {
   "cell_type": "code",
   "execution_count": 4,
   "id": "7e5e4c69",
   "metadata": {
    "execution": {
     "iopub.execute_input": "2023-07-15T13:34:36.838942Z",
     "iopub.status.busy": "2023-07-15T13:34:36.838478Z",
     "iopub.status.idle": "2023-07-15T13:34:36.847542Z",
     "shell.execute_reply": "2023-07-15T13:34:36.846656Z"
    },
    "papermill": {
     "duration": 0.019723,
     "end_time": "2023-07-15T13:34:36.849911",
     "exception": false,
     "start_time": "2023-07-15T13:34:36.830188",
     "status": "completed"
    },
    "tags": []
   },
   "outputs": [
    {
     "name": "stdout",
     "output_type": "stream",
     "text": [
      "Value Counts: HIIT        667\n",
      "Cycling     376\n",
      "Strength    233\n",
      "Yoga        135\n",
      "Aqua         76\n",
      "-            13\n",
      "Name: category, dtype: int64\n",
      "Value Counts: Fri          279\n",
      "Thu          241\n",
      "Mon          218\n",
      "Sun          213\n",
      "Sat          202\n",
      "Tue          195\n",
      "Wed           81\n",
      "Wednesday     35\n",
      "Fri.          26\n",
      "Monday        10\n",
      "Name: day_of_week, dtype: int64\n"
     ]
    }
   ],
   "source": [
    "#Let's validate that the category column fits into the categories from the data description in the \n",
    "#correspondence\n",
    "\n",
    "#Value counts of the categories & weekdays\n",
    "category_counts= df['category'].value_counts()\n",
    "weekday_counts= df['day_of_week'].value_counts()\n",
    "\n",
    "#Print results\n",
    "print(\"Value Counts:\", category_counts)\n",
    "print(\"Value Counts:\", weekday_counts)\n"
   ]
  },
  {
   "cell_type": "code",
   "execution_count": 5,
   "id": "4e36aea7",
   "metadata": {
    "execution": {
     "iopub.execute_input": "2023-07-15T13:34:36.865815Z",
     "iopub.status.busy": "2023-07-15T13:34:36.865318Z",
     "iopub.status.idle": "2023-07-15T13:34:36.877391Z",
     "shell.execute_reply": "2023-07-15T13:34:36.876166Z"
    },
    "papermill": {
     "duration": 0.023248,
     "end_time": "2023-07-15T13:34:36.879868",
     "exception": false,
     "start_time": "2023-07-15T13:34:36.856620",
     "status": "completed"
    },
    "tags": []
   },
   "outputs": [
    {
     "data": {
      "text/plain": [
       "HIIT        667\n",
       "Cycling     376\n",
       "Strength    233\n",
       "Yoga        135\n",
       "Aqua         76\n",
       "Unknown      13\n",
       "Name: category, dtype: int64"
      ]
     },
     "execution_count": 5,
     "metadata": {},
     "output_type": "execute_result"
    }
   ],
   "source": [
    "#Replacing the string to an NaN value to help removing the missing values\n",
    "df['category']= df['category'].replace('-', 'Unknown')\n",
    "\n",
    "#Checking the missing data in the category column\n",
    "df['category'].isna().sum()\n",
    "\n",
    "#Confirming value counts of the cateogry columns\n",
    "df['category'].value_counts()"
   ]
  },
  {
   "cell_type": "code",
   "execution_count": 6,
   "id": "12af981a",
   "metadata": {
    "execution": {
     "iopub.execute_input": "2023-07-15T13:34:36.896617Z",
     "iopub.status.busy": "2023-07-15T13:34:36.896146Z",
     "iopub.status.idle": "2023-07-15T13:34:36.911574Z",
     "shell.execute_reply": "2023-07-15T13:34:36.910188Z"
    },
    "papermill": {
     "duration": 0.028126,
     "end_time": "2023-07-15T13:34:36.915070",
     "exception": false,
     "start_time": "2023-07-15T13:34:36.886944",
     "status": "completed"
    },
    "tags": []
   },
   "outputs": [
    {
     "name": "stdout",
     "output_type": "stream",
     "text": [
      "Fri    305\n",
      "Thu    241\n",
      "Mon    228\n",
      "Sun    213\n",
      "Sat    202\n",
      "Tue    195\n",
      "Wed    116\n",
      "Name: day_of_week, dtype: int64\n"
     ]
    },
    {
     "name": "stderr",
     "output_type": "stream",
     "text": [
      "/tmp/ipykernel_20/517461217.py:5: FutureWarning: The default value of regex will change from True to False in a future version.\n",
      "  df['day_of_week']= df['day_of_week'].str.replace('Fri.', 'Fri')\n"
     ]
    }
   ],
   "source": [
    "#Function to convert the naming conventions of the days of the week\n",
    "def combine_weekdays(df, day_of_week):\n",
    "    df['day_of_week']= df['day_of_week'].str.replace('Monday', 'Mon')\n",
    "    df['day_of_week']= df['day_of_week'].str.replace('Wednesday', 'Wed')\n",
    "    df['day_of_week']= df['day_of_week'].str.replace('Fri.', 'Fri')\n",
    "    return df\n",
    "\n",
    "df = combine_weekdays(df, 'day of the week')\n",
    "\n",
    "#Print results\n",
    "print(df['day_of_week'].value_counts())\n",
    "\n"
   ]
  },
  {
   "cell_type": "markdown",
   "id": "1dfc2ea0",
   "metadata": {
    "papermill": {
     "duration": 0.006629,
     "end_time": "2023-07-15T13:34:36.929077",
     "exception": false,
     "start_time": "2023-07-15T13:34:36.922448",
     "status": "completed"
    },
    "tags": []
   },
   "source": [
    "**Category column results:** The category counts are validated to be: HIIT, Cycling, Strength, Yoga & Aqua as described in the data description from the correspondence. The category columns contains 13 missing values represented by a '-', we will first replace the '-' with a \"Unknown\" value as a place holder. After our manipulation we will use the value counts method to confirm the changes made.\n",
    "\n",
    "**Day_of_week results: *******The naming conventions within the column is not homogenic. For example, there value for the first day of the week is stored 'Monday' & 'Mon'. They represent the same day but the way the the data was recorded in the table is split the vlues counts into two different categories. We will replace these day_of_the_week with the abbrivated version of the day, example, 'Wednesday\" will be converted to 'Wed' to acheive consistency in the data. This will produce more reliable & consistent results.*******\n",
    "\n",
    "**See the below code for the steps taken to execute the task**"
   ]
  },
  {
   "cell_type": "code",
   "execution_count": 7,
   "id": "9fd2742d",
   "metadata": {
    "execution": {
     "iopub.execute_input": "2023-07-15T13:34:36.945166Z",
     "iopub.status.busy": "2023-07-15T13:34:36.944694Z",
     "iopub.status.idle": "2023-07-15T13:34:36.955436Z",
     "shell.execute_reply": "2023-07-15T13:34:36.954413Z"
    },
    "papermill": {
     "duration": 0.021483,
     "end_time": "2023-07-15T13:34:36.957730",
     "exception": false,
     "start_time": "2023-07-15T13:34:36.936247",
     "status": "completed"
    },
    "tags": []
   },
   "outputs": [
    {
     "data": {
      "text/plain": [
       "booking_id           0\n",
       "months_as_member     0\n",
       "weight              20\n",
       "days_before          0\n",
       "day_of_week          0\n",
       "time                 0\n",
       "category             0\n",
       "attended             0\n",
       "dtype: int64"
      ]
     },
     "execution_count": 7,
     "metadata": {},
     "output_type": "execute_result"
    }
   ],
   "source": [
    "#Check missing data in all the columns\n",
    "df.isna().sum()"
   ]
  },
  {
   "cell_type": "markdown",
   "id": "4c0d6e63",
   "metadata": {
    "papermill": {
     "duration": 0.00671,
     "end_time": "2023-07-15T13:34:36.971864",
     "exception": false,
     "start_time": "2023-07-15T13:34:36.965154",
     "status": "completed"
    },
    "tags": []
   },
   "source": [
    "There are 20 missing values in the weight column. To preserve data and use as many data points as  possible in our analysis, we will impute the average weight to the missing values. See code below:"
   ]
  },
  {
   "cell_type": "code",
   "execution_count": 8,
   "id": "53c054ee",
   "metadata": {
    "execution": {
     "iopub.execute_input": "2023-07-15T13:34:36.988348Z",
     "iopub.status.busy": "2023-07-15T13:34:36.987888Z",
     "iopub.status.idle": "2023-07-15T13:34:37.000459Z",
     "shell.execute_reply": "2023-07-15T13:34:36.999184Z"
    },
    "papermill": {
     "duration": 0.023301,
     "end_time": "2023-07-15T13:34:37.002715",
     "exception": false,
     "start_time": "2023-07-15T13:34:36.979414",
     "status": "completed"
    },
    "tags": []
   },
   "outputs": [
    {
     "data": {
      "text/plain": [
       "booking_id          0\n",
       "months_as_member    0\n",
       "weight              0\n",
       "days_before         0\n",
       "day_of_week         0\n",
       "time                0\n",
       "category            0\n",
       "attended            0\n",
       "dtype: int64"
      ]
     },
     "execution_count": 8,
     "metadata": {},
     "output_type": "execute_result"
    }
   ],
   "source": [
    "#Finding the overall mean of the weight column\n",
    "weight_mean = df['weight'].mean()\n",
    "\n",
    "#Imputing the mean to the missing values in the weight column\n",
    "df['weight'].fillna(weight_mean, inplace= True)\n",
    "\n",
    "#Looking for missing values in the weight column\n",
    "df.isnull().sum()"
   ]
  },
  {
   "cell_type": "code",
   "execution_count": 9,
   "id": "2cc03817",
   "metadata": {
    "execution": {
     "iopub.execute_input": "2023-07-15T13:34:37.019757Z",
     "iopub.status.busy": "2023-07-15T13:34:37.019022Z",
     "iopub.status.idle": "2023-07-15T13:34:37.026141Z",
     "shell.execute_reply": "2023-07-15T13:34:37.024775Z"
    },
    "papermill": {
     "duration": 0.018643,
     "end_time": "2023-07-15T13:34:37.028875",
     "exception": false,
     "start_time": "2023-07-15T13:34:37.010232",
     "status": "completed"
    },
    "tags": []
   },
   "outputs": [
    {
     "name": "stdout",
     "output_type": "stream",
     "text": [
      "Minimum days before the member registered: 1\n",
      "Maximum days before the member registered: 9\n"
     ]
    }
   ],
   "source": [
    "#Looking for abnormal and negative values in the 'days_before' column\n",
    "min_day= df['days_before'].min()\n",
    "max_day= df['days_before'].max()\n",
    "\n",
    "print(\"Minimum days before the member registered:\", min_day)\n",
    "print(\"Maximum days before the member registered:\", max_day)"
   ]
  },
  {
   "cell_type": "markdown",
   "id": "d6341761",
   "metadata": {
    "papermill": {
     "duration": 0.006993,
     "end_time": "2023-07-15T13:34:37.043259",
     "exception": false,
     "start_time": "2023-07-15T13:34:37.036266",
     "status": "completed"
    },
    "tags": []
   },
   "source": [
    "The following cell is intended to ensure that the values in the attended column are accurately recorded as 1 & 0"
   ]
  },
  {
   "cell_type": "code",
   "execution_count": 10,
   "id": "6e8547b4",
   "metadata": {
    "execution": {
     "iopub.execute_input": "2023-07-15T13:34:37.060070Z",
     "iopub.status.busy": "2023-07-15T13:34:37.059637Z",
     "iopub.status.idle": "2023-07-15T13:34:37.069164Z",
     "shell.execute_reply": "2023-07-15T13:34:37.067951Z"
    },
    "papermill": {
     "duration": 0.020894,
     "end_time": "2023-07-15T13:34:37.071473",
     "exception": false,
     "start_time": "2023-07-15T13:34:37.050579",
     "status": "completed"
    },
    "tags": []
   },
   "outputs": [
    {
     "data": {
      "text/plain": [
       "0    1046\n",
       "1     454\n",
       "Name: attended, dtype: int64"
      ]
     },
     "execution_count": 10,
     "metadata": {},
     "output_type": "execute_result"
    }
   ],
   "source": [
    "#Checking vlaues in the attended column\n",
    "df['attended'].value_counts()"
   ]
  },
  {
   "cell_type": "code",
   "execution_count": 11,
   "id": "7cd000d9",
   "metadata": {
    "execution": {
     "iopub.execute_input": "2023-07-15T13:34:37.088983Z",
     "iopub.status.busy": "2023-07-15T13:34:37.088519Z",
     "iopub.status.idle": "2023-07-15T13:34:37.097457Z",
     "shell.execute_reply": "2023-07-15T13:34:37.095590Z"
    },
    "papermill": {
     "duration": 0.020331,
     "end_time": "2023-07-15T13:34:37.100048",
     "exception": false,
     "start_time": "2023-07-15T13:34:37.079717",
     "status": "completed"
    },
    "tags": []
   },
   "outputs": [
    {
     "name": "stdout",
     "output_type": "stream",
     "text": [
      "This is the session of the day:  AM    1141\n",
      "PM     359\n",
      "Name: time, dtype: int64\n"
     ]
    }
   ],
   "source": [
    "#Checking the 'time' column to ensure the dat awas recorded as 'AM' and 'PM'\n",
    "time_stamp= df['time'].value_counts()\n",
    "\n",
    "print(\"This is the session of the day: \", time_stamp)"
   ]
  },
  {
   "cell_type": "markdown",
   "id": "fd689623",
   "metadata": {
    "papermill": {
     "duration": 0.007762,
     "end_time": "2023-07-15T13:34:37.115668",
     "exception": false,
     "start_time": "2023-07-15T13:34:37.107906",
     "status": "completed"
    },
    "tags": []
   },
   "source": [
    "**Summary of question 1**\n",
    "After our data manipulation the data has been cleaned and is now ready for visualization and building the ML model. To ensure that the data fit the description in the table we executed different data techniques on the columns. The following describes the techniques used on the dataset to clean the data, count and impute the missing values.\n",
    "* Firstly, the .info() was used to look at the data types of the differetn columns\n",
    "* In the 'category' column, we used the value counts method to verify the counts of the different variables in the column. For the missing values in the column, we imputed the string 'unknown' to the missing values. The were 13 missing values in the column and the missing values were stored as '-'. \n",
    "* The day_of_week column had the days recorded in different nomenclature. For example, the first day of the week was store as both 'Monday' and 'Mon', this meant the the same day was now double recorded. To rectify this, we wrote a function using the 'str.replace' method to the change full weekday name to its abbreviated version, example, 'Monday' was 'Mon', 'Wednesday' was stored as 'Wed' etc. Friday was stored both as 'Fri.'(note the punctuation) and 'Fri', the same str.replace technique in the function was used to convert the day to its abbreviated form ('Fri').\n",
    "* Inspected the 'days_before' column to ensure that the minimum value was 1. It would be impossible to have a negative number for a registration date so we want to ensure that there were no negative values in that column.\n",
    "* The weight column had twenty missing values, these values were imputed by using the overall mean of the column to preserve data in the dataset. The more data we can have in the dataset the nome accuracy we can generate in our model. In addition, the values in the column are a float data type rounded to two decimal places.\n",
    "* The attended column was inspected to ensure that the values in the column was either 1(attended the class) or 0(did not attend the class). No missing values were found in the column\n",
    "* No change were made to the 'time' column. Data was recorded accurately in the table\n"
   ]
  },
  {
   "cell_type": "markdown",
   "id": "98e7e82f",
   "metadata": {
    "papermill": {
     "duration": 0.007355,
     "end_time": "2023-07-15T13:34:37.130663",
     "exception": false,
     "start_time": "2023-07-15T13:34:37.123308",
     "status": "completed"
    },
    "tags": []
   },
   "source": [
    "****"
   ]
  },
  {
   "cell_type": "markdown",
   "id": "97acfb11",
   "metadata": {
    "papermill": {
     "duration": 0.007544,
     "end_time": "2023-07-15T13:34:37.146960",
     "exception": false,
     "start_time": "2023-07-15T13:34:37.139416",
     "status": "completed"
    },
    "tags": []
   },
   "source": [
    "**Section 2**"
   ]
  },
  {
   "cell_type": "markdown",
   "id": "857232c8",
   "metadata": {
    "papermill": {
     "duration": 0.007202,
     "end_time": "2023-07-15T13:34:37.162265",
     "exception": false,
     "start_time": "2023-07-15T13:34:37.155063",
     "status": "completed"
    },
    "tags": []
   },
   "source": [
    "**Data Visualization**"
   ]
  },
  {
   "cell_type": "code",
   "execution_count": 12,
   "id": "1491f5ce",
   "metadata": {
    "execution": {
     "iopub.execute_input": "2023-07-15T13:34:37.179757Z",
     "iopub.status.busy": "2023-07-15T13:34:37.179290Z",
     "iopub.status.idle": "2023-07-15T13:34:37.192815Z",
     "shell.execute_reply": "2023-07-15T13:34:37.191950Z"
    },
    "papermill": {
     "duration": 0.025269,
     "end_time": "2023-07-15T13:34:37.195109",
     "exception": false,
     "start_time": "2023-07-15T13:34:37.169840",
     "status": "completed"
    },
    "tags": []
   },
   "outputs": [
    {
     "data": {
      "text/html": [
       "<div>\n",
       "<style scoped>\n",
       "    .dataframe tbody tr th:only-of-type {\n",
       "        vertical-align: middle;\n",
       "    }\n",
       "\n",
       "    .dataframe tbody tr th {\n",
       "        vertical-align: top;\n",
       "    }\n",
       "\n",
       "    .dataframe thead th {\n",
       "        text-align: right;\n",
       "    }\n",
       "</style>\n",
       "<table border=\"1\" class=\"dataframe\">\n",
       "  <thead>\n",
       "    <tr style=\"text-align: right;\">\n",
       "      <th></th>\n",
       "      <th>booking_id</th>\n",
       "      <th>months_as_member</th>\n",
       "      <th>weight</th>\n",
       "      <th>days_before</th>\n",
       "      <th>day_of_week</th>\n",
       "      <th>time</th>\n",
       "      <th>category</th>\n",
       "      <th>attended</th>\n",
       "    </tr>\n",
       "  </thead>\n",
       "  <tbody>\n",
       "    <tr>\n",
       "      <th>0</th>\n",
       "      <td>1</td>\n",
       "      <td>17</td>\n",
       "      <td>79.56</td>\n",
       "      <td>8</td>\n",
       "      <td>Wed</td>\n",
       "      <td>PM</td>\n",
       "      <td>Strength</td>\n",
       "      <td>0</td>\n",
       "    </tr>\n",
       "    <tr>\n",
       "      <th>1</th>\n",
       "      <td>2</td>\n",
       "      <td>10</td>\n",
       "      <td>79.01</td>\n",
       "      <td>2</td>\n",
       "      <td>Mon</td>\n",
       "      <td>AM</td>\n",
       "      <td>HIIT</td>\n",
       "      <td>0</td>\n",
       "    </tr>\n",
       "    <tr>\n",
       "      <th>2</th>\n",
       "      <td>3</td>\n",
       "      <td>16</td>\n",
       "      <td>74.53</td>\n",
       "      <td>14</td>\n",
       "      <td>Sun</td>\n",
       "      <td>AM</td>\n",
       "      <td>Strength</td>\n",
       "      <td>0</td>\n",
       "    </tr>\n",
       "    <tr>\n",
       "      <th>3</th>\n",
       "      <td>4</td>\n",
       "      <td>5</td>\n",
       "      <td>86.12</td>\n",
       "      <td>10</td>\n",
       "      <td>Fri</td>\n",
       "      <td>AM</td>\n",
       "      <td>Cycling</td>\n",
       "      <td>0</td>\n",
       "    </tr>\n",
       "    <tr>\n",
       "      <th>4</th>\n",
       "      <td>5</td>\n",
       "      <td>15</td>\n",
       "      <td>69.29</td>\n",
       "      <td>8</td>\n",
       "      <td>Thu</td>\n",
       "      <td>AM</td>\n",
       "      <td>HIIT</td>\n",
       "      <td>0</td>\n",
       "    </tr>\n",
       "  </tbody>\n",
       "</table>\n",
       "</div>"
      ],
      "text/plain": [
       "   booking_id  months_as_member  weight days_before day_of_week time  \\\n",
       "0           1                17   79.56           8         Wed   PM   \n",
       "1           2                10   79.01           2         Mon   AM   \n",
       "2           3                16   74.53          14         Sun   AM   \n",
       "3           4                 5   86.12          10         Fri   AM   \n",
       "4           5                15   69.29           8         Thu   AM   \n",
       "\n",
       "   category  attended  \n",
       "0  Strength         0  \n",
       "1      HIIT         0  \n",
       "2  Strength         0  \n",
       "3   Cycling         0  \n",
       "4      HIIT         0  "
      ]
     },
     "execution_count": 12,
     "metadata": {},
     "output_type": "execute_result"
    }
   ],
   "source": [
    "#Viewing the dataset\n",
    "df.head()"
   ]
  },
  {
   "cell_type": "markdown",
   "id": "0ba4be20",
   "metadata": {
    "papermill": {
     "duration": 0.007587,
     "end_time": "2023-07-15T13:34:37.210752",
     "exception": false,
     "start_time": "2023-07-15T13:34:37.203165",
     "status": "completed"
    },
    "tags": []
   },
   "source": [
    "We are going to look at the distribution of attendace within the dataset. We filter the 'attended' column to show only calsses that were attended, i.e that the variable in the attended column was equal to 1"
   ]
  },
  {
   "cell_type": "code",
   "execution_count": 13,
   "id": "05dbefd0",
   "metadata": {
    "execution": {
     "iopub.execute_input": "2023-07-15T13:34:37.227950Z",
     "iopub.status.busy": "2023-07-15T13:34:37.227522Z",
     "iopub.status.idle": "2023-07-15T13:34:37.529972Z",
     "shell.execute_reply": "2023-07-15T13:34:37.528828Z"
    },
    "papermill": {
     "duration": 0.314402,
     "end_time": "2023-07-15T13:34:37.532641",
     "exception": false,
     "start_time": "2023-07-15T13:34:37.218239",
     "status": "completed"
    },
    "tags": []
   },
   "outputs": [
    {
     "data": {
      "image/png": "[encoded data removed]",
      "text/plain": [
       "<Figure size 800x600 with 1 Axes>"
      ]
     },
     "metadata": {},
     "output_type": "display_data"
    }
   ],
   "source": [
    "#Filter the dataset \n",
    "attendance= df[df['attended'] == 1]\n",
    "\n",
    "#Create a countplot of class attendance by category\n",
    "plt.figure(figsize=(8,6))\n",
    "sns.countplot(data=attendance, x= 'category', palette= 'Blues')\n",
    "sns.despine()\n",
    "plt.title(\"Class Attendance By Category\")\n",
    "plt.show()\n",
    "\n"
   ]
  }
 ],
 "metadata": {
  "kernelspec": {
   "display_name": "Python 3",
   "language": "python",
   "name": "python3"
  },
  "language_info": {
   "codemirror_mode": {
    "name": "ipython",
    "version": 3
   },
   "file_extension": ".py",
   "mimetype": "text/x-python",
   "name": "python",
   "nbconvert_exporter": "python",
   "pygments_lexer": "ipython3",
   "version": "3.10.12"
  },
  "papermill": {
   "default_parameters": {},
   "duration": 13.878132,
   "end_time": "2023-07-15T13:34:38.566253",
   "environment_variables": {},
   "exception": null,
   "input_path": "__notebook__.ipynb",
   "output_path": "__notebook__.ipynb",
   "parameters": {},
   "start_time": "2023-07-15T13:34:24.688121",
   "version": "2.4.0"
  }
 },
 "nbformat": 4,
 "nbformat_minor": 5
}
