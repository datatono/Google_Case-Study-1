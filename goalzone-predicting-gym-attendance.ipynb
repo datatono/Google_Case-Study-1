{
 "cells": [
  {
   "cell_type": "code",
   "execution_count": 1,
   "id": "c751bf56",
   "metadata": {
    "_cell_guid": "b1076dfc-b9ad-4769-8c92-a6c4dae69d19",
    "_uuid": "8f2839f25d086af736a60e9eeb907d3b93b6e0e5",
    "execution": {
     "iopub.execute_input": "2023-07-18T11:42:04.136993Z",
     "iopub.status.busy": "2023-07-18T11:42:04.136589Z",
     "iopub.status.idle": "2023-07-18T11:42:04.160556Z",
     "shell.execute_reply": "2023-07-18T11:42:04.159419Z"
    },
    "papermill": {
     "duration": 0.044859,
     "end_time": "2023-07-18T11:42:04.163259",
     "exception": false,
     "start_time": "2023-07-18T11:42:04.118400",
     "status": "completed"
    },
    "tags": []
   },
   "outputs": [
    {
     "name": "stdout",
     "output_type": "stream",
     "text": [
      "/kaggle/input/goalzone-fitness-data/ASDS_DatacampFinal_fitness_class_2212_07.13.2023 - fitness_class_2212.csv\n"
     ]
    }
   ],
   "source": [
    "# This Python 3 environment comes with many helpful analytics libraries installed\n",
    "# It is defined by the kaggle/python Docker image: https://github.com/kaggle/docker-python\n",
    "# For example, here's several helpful packages to load\n",
    "\n",
    "import numpy as np # linear algebra\n",
    "import pandas as pd # data processing, CSV file I/O (e.g. pd.read_csv)\n",
    "\n",
    "# Input data files are available in the read-only \"../input/\" directory\n",
    "# For example, running this (by clicking run or pressing Shift+Enter) will list all files under the input directory\n",
    "\n",
    "import os\n",
    "for dirname, _, filenames in os.walk('/kaggle/input'):\n",
    "    for filename in filenames:\n",
    "        print(os.path.join(dirname, filename))\n",
    "\n",
    "# You can write up to 20GB to the current directory (/kaggle/working/) that gets preserved as output when you create a version using \"Save & Run All\" \n",
    "# You can also write temporary files to /kaggle/temp/, but they won't be saved outside of the current session"
   ]
  },
  {
   "cell_type": "markdown",
   "id": "1949c3a8",
   "metadata": {
    "papermill": {
     "duration": 0.017442,
     "end_time": "2023-07-18T11:42:04.197507",
     "exception": false,
     "start_time": "2023-07-18T11:42:04.180065",
     "status": "completed"
    },
    "tags": []
   },
   "source": [
    "**Company Background:**\n",
    "GoalZone is a fitness club chain in Canada.\n",
    "GoalZone offers a range of fitness classes in two capacities - 25 and 15.\n",
    "Some classes are always fully booked. Fully booked classes often have a low attendance rate.\n",
    "GoalZone wants to increase the number of spaces available for classes.\n",
    "They want to do this by predicting whether the member will attend the class or not.\n",
    "If they can predict a member will not attend the class, they can make another space\n",
    "availab"
   ]
  },
  {
   "cell_type": "markdown",
   "id": "77fd55fb",
   "metadata": {
    "papermill": {
     "duration": 0.015589,
     "end_time": "2023-07-18T11:42:04.229077",
     "exception": false,
     "start_time": "2023-07-18T11:42:04.213488",
     "status": "completed"
    },
    "tags": []
   },
   "source": [
    "**Tasks & Company Questions:**\n",
    "Write your answers in your workspace.\n",
    "1. For every column in the data:\n",
    "    a. State whether the values match the description given in the table above.\n",
    "    b. State the number of missing values in the column.\n",
    "    c. Describe what you did to make values match the description if they did not match.\n",
    "\n",
    "2. Create a visualization that shows how many bookings attended the class. Use the\n",
    "visualization to:\n",
    "a. State which category of the variable attended has the most observations\n",
    "b. Explain whether the observations are balanced across categories of the\n",
    "variable attended\n",
    "\n",
    "3. Describe the distribution of the number of months as a member. Your answer must\n",
    "include a visualization that shows the distribution.\n",
    "\n",
    "4. Describe the relationship between attendance and number of months as a member.\n",
    "Your answer must include a visualization to demonstrate the relationship.\n",
    "\n",
    "5. The business wants to predict whether members will attend using the data provided.\n",
    "State the type of machine learning problem that this is (regression/ classification/\n",
    "clustering).\n",
    "\n",
    "6. Fit a baseline model to predict whether members will attend using the data provided.\n",
    "You must include your code.\n",
    "\n",
    "7. Fit a comparison model to predict whether members will attend using the data\n",
    "provided. You must include your code.\n",
    "\n",
    "8. Explain why you chose the two models used in parts 6 and 7.\n",
    "\n",
    "9. Compare the performance of the two models used in parts 6 and 7, using any method\n",
    "suitable. You must include your code.\n",
    "\n",
    "10. Explain which model performs better and why"
   ]
  },
  {
   "cell_type": "markdown",
   "id": "8c40e81f",
   "metadata": {
    "papermill": {
     "duration": 0.015629,
     "end_time": "2023-07-18T11:42:04.260833",
     "exception": false,
     "start_time": "2023-07-18T11:42:04.245204",
     "status": "completed"
    },
    "tags": []
   },
   "source": [
    "**Business question 1**\n",
    "1. For every column in the data:\n",
    "a. State whether the values match the description given in the table above.\n",
    "b. State the number of missing values in the column.\n",
    "c. Describe what you did to make values match the description if they did not\n",
    "match."
   ]
  },
  {
   "cell_type": "markdown",
   "id": "a1b51b82",
   "metadata": {
    "papermill": {
     "duration": 0.01563,
     "end_time": "2023-07-18T11:42:04.292442",
     "exception": false,
     "start_time": "2023-07-18T11:42:04.276812",
     "status": "completed"
    },
    "tags": []
   },
   "source": [
    "**Loading the necessary libraries and files to begin analysis on the dataset. We will print and view the first 5 rows of the dataset.**"
   ]
  },
  {
   "cell_type": "code",
   "execution_count": 2,
   "id": "21b36960",
   "metadata": {
    "execution": {
     "iopub.execute_input": "2023-07-18T11:42:04.326487Z",
     "iopub.status.busy": "2023-07-18T11:42:04.326041Z",
     "iopub.status.idle": "2023-07-18T11:42:05.945450Z",
     "shell.execute_reply": "2023-07-18T11:42:05.944261Z"
    },
    "papermill": {
     "duration": 1.639868,
     "end_time": "2023-07-18T11:42:05.948562",
     "exception": false,
     "start_time": "2023-07-18T11:42:04.308694",
     "status": "completed"
    },
    "tags": []
   },
   "outputs": [
    {
     "name": "stderr",
     "output_type": "stream",
     "text": [
      "/opt/conda/lib/python3.10/site-packages/scipy/__init__.py:146: UserWarning: A NumPy version >=1.16.5 and <1.23.0 is required for this version of SciPy (detected version 1.23.5\n",
      "  warnings.warn(f\"A NumPy version >={np_minversion} and <{np_maxversion}\"\n"
     ]
    },
    {
     "name": "stdout",
     "output_type": "stream",
     "text": [
      "Number of rows: 1500\n",
      "Number of columns: 8\n"
     ]
    },
    {
     "data": {
      "text/html": [
       "<div>\n",
       "<style scoped>\n",
       "    .dataframe tbody tr th:only-of-type {\n",
       "        vertical-align: middle;\n",
       "    }\n",
       "\n",
       "    .dataframe tbody tr th {\n",
       "        vertical-align: top;\n",
       "    }\n",
       "\n",
       "    .dataframe thead th {\n",
       "        text-align: right;\n",
       "    }\n",
       "</style>\n",
       "<table border=\"1\" class=\"dataframe\">\n",
       "  <thead>\n",
       "    <tr style=\"text-align: right;\">\n",
       "      <th></th>\n",
       "      <th>booking_id</th>\n",
       "      <th>months_as_member</th>\n",
       "      <th>weight</th>\n",
       "      <th>days_before</th>\n",
       "      <th>day_of_week</th>\n",
       "      <th>time</th>\n",
       "      <th>category</th>\n",
       "      <th>attended</th>\n",
       "    </tr>\n",
       "  </thead>\n",
       "  <tbody>\n",
       "    <tr>\n",
       "      <th>0</th>\n",
       "      <td>1</td>\n",
       "      <td>17</td>\n",
       "      <td>79.56</td>\n",
       "      <td>8</td>\n",
       "      <td>Wed</td>\n",
       "      <td>PM</td>\n",
       "      <td>Strength</td>\n",
       "      <td>0</td>\n",
       "    </tr>\n",
       "    <tr>\n",
       "      <th>1</th>\n",
       "      <td>2</td>\n",
       "      <td>10</td>\n",
       "      <td>79.01</td>\n",
       "      <td>2</td>\n",
       "      <td>Mon</td>\n",
       "      <td>AM</td>\n",
       "      <td>HIIT</td>\n",
       "      <td>0</td>\n",
       "    </tr>\n",
       "    <tr>\n",
       "      <th>2</th>\n",
       "      <td>3</td>\n",
       "      <td>16</td>\n",
       "      <td>74.53</td>\n",
       "      <td>14</td>\n",
       "      <td>Sun</td>\n",
       "      <td>AM</td>\n",
       "      <td>Strength</td>\n",
       "      <td>0</td>\n",
       "    </tr>\n",
       "    <tr>\n",
       "      <th>3</th>\n",
       "      <td>4</td>\n",
       "      <td>5</td>\n",
       "      <td>86.12</td>\n",
       "      <td>10</td>\n",
       "      <td>Fri</td>\n",
       "      <td>AM</td>\n",
       "      <td>Cycling</td>\n",
       "      <td>0</td>\n",
       "    </tr>\n",
       "    <tr>\n",
       "      <th>4</th>\n",
       "      <td>5</td>\n",
       "      <td>15</td>\n",
       "      <td>69.29</td>\n",
       "      <td>8</td>\n",
       "      <td>Thu</td>\n",
       "      <td>AM</td>\n",
       "      <td>HIIT</td>\n",
       "      <td>0</td>\n",
       "    </tr>\n",
       "  </tbody>\n",
       "</table>\n",
       "</div>"
      ],
      "text/plain": [
       "   booking_id  months_as_member  weight days_before day_of_week time  \\\n",
       "0           1                17   79.56           8         Wed   PM   \n",
       "1           2                10   79.01           2         Mon   AM   \n",
       "2           3                16   74.53          14         Sun   AM   \n",
       "3           4                 5   86.12          10         Fri   AM   \n",
       "4           5                15   69.29           8         Thu   AM   \n",
       "\n",
       "   category  attended  \n",
       "0  Strength         0  \n",
       "1      HIIT         0  \n",
       "2  Strength         0  \n",
       "3   Cycling         0  \n",
       "4      HIIT         0  "
      ]
     },
     "execution_count": 2,
     "metadata": {},
     "output_type": "execute_result"
    }
   ],
   "source": [
    "#Import libraries\n",
    "import numpy as np\n",
    "import pandas as pd\n",
    "import matplotlib.pyplot as plt\n",
    "import seaborn as sns\n",
    "\n",
    "#Read data\n",
    "df = pd.read_csv('/kaggle/input/goalzone-fitness-data/ASDS_DatacampFinal_fitness_class_2212_07.13.2023 - fitness_class_2212.csv')\n",
    "\n",
    "#Print the number of rows and columns using shape\n",
    "num_rows, num_cols = df.shape\n",
    "print(\"Number of rows:\", num_rows)\n",
    "print(\"Number of columns:\", num_cols)\n",
    "\n",
    "#Quick view of the fist 5 rows of the dataset\n",
    "df.head()"
   ]
  },
  {
   "cell_type": "markdown",
   "id": "223735ac",
   "metadata": {
    "papermill": {
     "duration": 0.016605,
     "end_time": "2023-07-18T11:42:05.981750",
     "exception": false,
     "start_time": "2023-07-18T11:42:05.965145",
     "status": "completed"
    },
    "tags": []
   },
   "source": [
    "**Data Validation** The following scripts will address all parts to question one. At the end a summary report will be provided for the question.\n"
   ]
  },
  {
   "cell_type": "code",
   "execution_count": 3,
   "id": "00be0e8c",
   "metadata": {
    "execution": {
     "iopub.execute_input": "2023-07-18T11:42:06.018696Z",
     "iopub.status.busy": "2023-07-18T11:42:06.017996Z",
     "iopub.status.idle": "2023-07-18T11:42:06.048464Z",
     "shell.execute_reply": "2023-07-18T11:42:06.046622Z"
    },
    "papermill": {
     "duration": 0.052655,
     "end_time": "2023-07-18T11:42:06.050962",
     "exception": false,
     "start_time": "2023-07-18T11:42:05.998307",
     "status": "completed"
    },
    "tags": []
   },
   "outputs": [
    {
     "name": "stdout",
     "output_type": "stream",
     "text": [
      "<class 'pandas.core.frame.DataFrame'>\n",
      "RangeIndex: 1500 entries, 0 to 1499\n",
      "Data columns (total 8 columns):\n",
      " #   Column            Non-Null Count  Dtype  \n",
      "---  ------            --------------  -----  \n",
      " 0   booking_id        1500 non-null   int64  \n",
      " 1   months_as_member  1500 non-null   int64  \n",
      " 2   weight            1480 non-null   float64\n",
      " 3   days_before       1500 non-null   object \n",
      " 4   day_of_week       1500 non-null   object \n",
      " 5   time              1500 non-null   object \n",
      " 6   category          1500 non-null   object \n",
      " 7   attended          1500 non-null   int64  \n",
      "dtypes: float64(1), int64(3), object(4)\n",
      "memory usage: 93.9+ KB\n"
     ]
    }
   ],
   "source": [
    "#Looking at the data types\n",
    "df.info()"
   ]
  },
  {
   "cell_type": "markdown",
   "id": "834683c1",
   "metadata": {
    "papermill": {
     "duration": 0.016588,
     "end_time": "2023-07-18T11:42:06.084373",
     "exception": false,
     "start_time": "2023-07-18T11:42:06.067785",
     "status": "completed"
    },
    "tags": []
   },
   "source": [
    "\n",
    "We will perform data validation to answer these questions from the assignment:\n",
    "1. For every column in the data:\n",
    "    a. State whether the values match the description given in the table above.\n",
    "    b. State the number of missing values in the column.\n",
    "    c. Describe what you did to make values match the description if they did not match."
   ]
  },
  {
   "cell_type": "code",
   "execution_count": 4,
   "id": "5a476af8",
   "metadata": {
    "execution": {
     "iopub.execute_input": "2023-07-18T11:42:06.119831Z",
     "iopub.status.busy": "2023-07-18T11:42:06.119125Z",
     "iopub.status.idle": "2023-07-18T11:42:06.128928Z",
     "shell.execute_reply": "2023-07-18T11:42:06.127616Z"
    },
    "papermill": {
     "duration": 0.030223,
     "end_time": "2023-07-18T11:42:06.131239",
     "exception": false,
     "start_time": "2023-07-18T11:42:06.101016",
     "status": "completed"
    },
    "tags": []
   },
   "outputs": [
    {
     "name": "stdout",
     "output_type": "stream",
     "text": [
      "Value Counts: HIIT        667\n",
      "Cycling     376\n",
      "Strength    233\n",
      "Yoga        135\n",
      "Aqua         76\n",
      "-            13\n",
      "Name: category, dtype: int64\n",
      "Value Counts: Fri          279\n",
      "Thu          241\n",
      "Mon          218\n",
      "Sun          213\n",
      "Sat          202\n",
      "Tue          195\n",
      "Wed           81\n",
      "Wednesday     35\n",
      "Fri.          26\n",
      "Monday        10\n",
      "Name: day_of_week, dtype: int64\n"
     ]
    }
   ],
   "source": [
    "#Let's validate that the category column fits into the categories from the data description in the \n",
    "#correspondence\n",
    "\n",
    "#Value counts of the categories & weekdays\n",
    "category_counts= df['category'].value_counts()\n",
    "weekday_counts= df['day_of_week'].value_counts()\n",
    "\n",
    "#Print results\n",
    "print(\"Value Counts:\", category_counts)\n",
    "print(\"Value Counts:\", weekday_counts)\n"
   ]
  },
  {
   "cell_type": "code",
   "execution_count": 5,
   "id": "dfe7f78e",
   "metadata": {
    "execution": {
     "iopub.execute_input": "2023-07-18T11:42:06.166752Z",
     "iopub.status.busy": "2023-07-18T11:42:06.166329Z",
     "iopub.status.idle": "2023-07-18T11:42:06.178338Z",
     "shell.execute_reply": "2023-07-18T11:42:06.177064Z"
    },
    "papermill": {
     "duration": 0.032958,
     "end_time": "2023-07-18T11:42:06.181118",
     "exception": false,
     "start_time": "2023-07-18T11:42:06.148160",
     "status": "completed"
    },
    "tags": []
   },
   "outputs": [
    {
     "data": {
      "text/plain": [
       "HIIT        667\n",
       "Cycling     376\n",
       "Strength    233\n",
       "Yoga        135\n",
       "Aqua         76\n",
       "Unknown      13\n",
       "Name: category, dtype: int64"
      ]
     },
     "execution_count": 5,
     "metadata": {},
     "output_type": "execute_result"
    }
   ],
   "source": [
    "#Replacing the string to an NaN value to help removing the missing values\n",
    "df['category']= df['category'].replace('-', 'Unknown')\n",
    "\n",
    "#Checking the missing data in the category column\n",
    "df['category'].isna().sum()\n",
    "\n",
    "#Confirming value counts of the cateogry columns\n",
    "df['category'].value_counts()"
   ]
  },
  {
   "cell_type": "code",
   "execution_count": 6,
   "id": "d0ba201c",
   "metadata": {
    "execution": {
     "iopub.execute_input": "2023-07-18T11:42:06.217969Z",
     "iopub.status.busy": "2023-07-18T11:42:06.216939Z",
     "iopub.status.idle": "2023-07-18T11:42:06.234107Z",
     "shell.execute_reply": "2023-07-18T11:42:06.232870Z"
    },
    "papermill": {
     "duration": 0.038513,
     "end_time": "2023-07-18T11:42:06.236633",
     "exception": false,
     "start_time": "2023-07-18T11:42:06.198120",
     "status": "completed"
    },
    "tags": []
   },
   "outputs": [
    {
     "name": "stdout",
     "output_type": "stream",
     "text": [
      "Fri    305\n",
      "Thu    241\n",
      "Mon    228\n",
      "Sun    213\n",
      "Sat    202\n",
      "Tue    195\n",
      "Wed    116\n",
      "Name: day_of_week, dtype: int64\n"
     ]
    },
    {
     "name": "stderr",
     "output_type": "stream",
     "text": [
      "/tmp/ipykernel_20/517461217.py:5: FutureWarning: The default value of regex will change from True to False in a future version.\n",
      "  df['day_of_week']= df['day_of_week'].str.replace('Fri.', 'Fri')\n"
     ]
    }
   ],
   "source": [
    "#Function to convert the naming conventions of the days of the week\n",
    "def combine_weekdays(df, day_of_week):\n",
    "    df['day_of_week']= df['day_of_week'].str.replace('Monday', 'Mon')\n",
    "    df['day_of_week']= df['day_of_week'].str.replace('Wednesday', 'Wed')\n",
    "    df['day_of_week']= df['day_of_week'].str.replace('Fri.', 'Fri')\n",
    "    return df\n",
    "\n",
    "df = combine_weekdays(df, 'day of the week')\n",
    "\n",
    "#Print results\n",
    "print(df['day_of_week'].value_counts())\n",
    "\n"
   ]
  },
  {
   "cell_type": "markdown",
   "id": "4f72f54c",
   "metadata": {
    "papermill": {
     "duration": 0.017041,
     "end_time": "2023-07-18T11:42:06.270963",
     "exception": false,
     "start_time": "2023-07-18T11:42:06.253922",
     "status": "completed"
    },
    "tags": []
   },
   "source": [
    "**Category column results:** The category counts are validated to be: HIIT, Cycling, Strength, Yoga & Aqua as described in the data description from the correspondence. The category columns contains 13 missing values represented by a '-', we will first replace the '-' with a \"Unknown\" value as a place holder. After our manipulation we will use the value counts method to confirm the changes made.\n",
    "\n",
    "**Day_of_week results: *******The naming conventions within the column is not homogenic. For example, there value for the first day of the week is stored 'Monday' & 'Mon'. They represent the same day but the way the the data was recorded in the table is split the vlues counts into two different categories. We will replace these day_of_the_week with the abbrivated version of the day, example, 'Wednesday\" will be converted to 'Wed' to acheive consistency in the data. This will produce more reliable & consistent results.*******\n",
    "\n",
    "**See the below code for the steps taken to execute the task**"
   ]
  },
  {
   "cell_type": "code",
   "execution_count": 7,
   "id": "f6f4b8ac",
   "metadata": {
    "execution": {
     "iopub.execute_input": "2023-07-18T11:42:06.307769Z",
     "iopub.status.busy": "2023-07-18T11:42:06.306936Z",
     "iopub.status.idle": "2023-07-18T11:42:06.318494Z",
     "shell.execute_reply": "2023-07-18T11:42:06.317378Z"
    },
    "papermill": {
     "duration": 0.032943,
     "end_time": "2023-07-18T11:42:06.321093",
     "exception": false,
     "start_time": "2023-07-18T11:42:06.288150",
     "status": "completed"
    },
    "tags": []
   },
   "outputs": [
    {
     "data": {
      "text/plain": [
       "booking_id           0\n",
       "months_as_member     0\n",
       "weight              20\n",
       "days_before          0\n",
       "day_of_week          0\n",
       "time                 0\n",
       "category             0\n",
       "attended             0\n",
       "dtype: int64"
      ]
     },
     "execution_count": 7,
     "metadata": {},
     "output_type": "execute_result"
    }
   ],
   "source": [
    "#Check missing data in all the columns\n",
    "df.isna().sum()"
   ]
  },
  {
   "cell_type": "markdown",
   "id": "dc2d7688",
   "metadata": {
    "papermill": {
     "duration": 0.016745,
     "end_time": "2023-07-18T11:42:06.355101",
     "exception": false,
     "start_time": "2023-07-18T11:42:06.338356",
     "status": "completed"
    },
    "tags": []
   },
   "source": [
    "There are 20 missing values in the weight column. To preserve data and use as many data points as  possible in our analysis, we will impute the average weight to the missing values. See code below:"
   ]
  },
  {
   "cell_type": "code",
   "execution_count": 8,
   "id": "a87a8e31",
   "metadata": {
    "execution": {
     "iopub.execute_input": "2023-07-18T11:42:06.391860Z",
     "iopub.status.busy": "2023-07-18T11:42:06.391019Z",
     "iopub.status.idle": "2023-07-18T11:42:06.404284Z",
     "shell.execute_reply": "2023-07-18T11:42:06.403112Z"
    },
    "papermill": {
     "duration": 0.034471,
     "end_time": "2023-07-18T11:42:06.406659",
     "exception": false,
     "start_time": "2023-07-18T11:42:06.372188",
     "status": "completed"
    },
    "tags": []
   },
   "outputs": [
    {
     "data": {
      "text/plain": [
       "booking_id          0\n",
       "months_as_member    0\n",
       "weight              0\n",
       "days_before         0\n",
       "day_of_week         0\n",
       "time                0\n",
       "category            0\n",
       "attended            0\n",
       "dtype: int64"
      ]
     },
     "execution_count": 8,
     "metadata": {},
     "output_type": "execute_result"
    }
   ],
   "source": [
    "#Finding the overall mean of the weight column\n",
    "weight_mean = df['weight'].mean()\n",
    "\n",
    "#Imputing the mean to the missing values in the weight column\n",
    "df['weight'].fillna(weight_mean, inplace= True)\n",
    "\n",
    "#Looking for missing values in the weight column\n",
    "df.isnull().sum()"
   ]
  },
  {
   "cell_type": "code",
   "execution_count": 9,
   "id": "87f3c384",
   "metadata": {
    "execution": {
     "iopub.execute_input": "2023-07-18T11:42:06.443390Z",
     "iopub.status.busy": "2023-07-18T11:42:06.442733Z",
     "iopub.status.idle": "2023-07-18T11:42:06.450760Z",
     "shell.execute_reply": "2023-07-18T11:42:06.449237Z"
    },
    "papermill": {
     "duration": 0.029139,
     "end_time": "2023-07-18T11:42:06.453027",
     "exception": false,
     "start_time": "2023-07-18T11:42:06.423888",
     "status": "completed"
    },
    "tags": []
   },
   "outputs": [
    {
     "name": "stdout",
     "output_type": "stream",
     "text": [
      "Minimum days before the member registered: 1\n",
      "Maximum days before the member registered: 9\n"
     ]
    }
   ],
   "source": [
    "#Looking for abnormal and negative values in the 'days_before' column\n",
    "min_day= df['days_before'].min()\n",
    "max_day= df['days_before'].max()\n",
    "\n",
    "print(\"Minimum days before the member registered:\", min_day)\n",
    "print(\"Maximum days before the member registered:\", max_day)"
   ]
  },
  {
   "cell_type": "markdown",
   "id": "3584d43c",
   "metadata": {
    "papermill": {
     "duration": 0.018864,
     "end_time": "2023-07-18T11:42:06.489084",
     "exception": false,
     "start_time": "2023-07-18T11:42:06.470220",
     "status": "completed"
    },
    "tags": []
   },
   "source": [
    "The following cell is intended to ensure that the values in the attended column are accurately recorded as 1 & 0"
   ]
  },
  {
   "cell_type": "code",
   "execution_count": 10,
   "id": "75ee7705",
   "metadata": {
    "execution": {
     "iopub.execute_input": "2023-07-18T11:42:06.526285Z",
     "iopub.status.busy": "2023-07-18T11:42:06.525881Z",
     "iopub.status.idle": "2023-07-18T11:42:06.535718Z",
     "shell.execute_reply": "2023-07-18T11:42:06.534304Z"
    },
    "papermill": {
     "duration": 0.0319,
     "end_time": "2023-07-18T11:42:06.538404",
     "exception": false,
     "start_time": "2023-07-18T11:42:06.506504",
     "status": "completed"
    },
    "tags": []
   },
   "outputs": [
    {
     "data": {
      "text/plain": [
       "0    1046\n",
       "1     454\n",
       "Name: attended, dtype: int64"
      ]
     },
     "execution_count": 10,
     "metadata": {},
     "output_type": "execute_result"
    }
   ],
   "source": [
    "df['attended'].value_counts()"
   ]
  },
  {
   "cell_type": "code",
   "execution_count": 11,
   "id": "797ffd8b",
   "metadata": {
    "execution": {
     "iopub.execute_input": "2023-07-18T11:42:06.575974Z",
     "iopub.status.busy": "2023-07-18T11:42:06.575490Z",
     "iopub.status.idle": "2023-07-18T11:42:06.583829Z",
     "shell.execute_reply": "2023-07-18T11:42:06.582319Z"
    },
    "papermill": {
     "duration": 0.029618,
     "end_time": "2023-07-18T11:42:06.586111",
     "exception": false,
     "start_time": "2023-07-18T11:42:06.556493",
     "status": "completed"
    },
    "tags": []
   },
   "outputs": [
    {
     "name": "stdout",
     "output_type": "stream",
     "text": [
      "This is the session of the day:  AM    1141\n",
      "PM     359\n",
      "Name: time, dtype: int64\n"
     ]
    }
   ],
   "source": [
    "#Checking the 'time' column to ensure the dat awas recorded as 'AM' and 'PM'\n",
    "time_stamp= df['time'].value_counts()\n",
    "\n",
    "print(\"This is the session of the day: \", time_stamp)"
   ]
  },
  {
   "cell_type": "markdown",
   "id": "b79421cc",
   "metadata": {
    "papermill": {
     "duration": 0.017454,
     "end_time": "2023-07-18T11:42:06.621769",
     "exception": false,
     "start_time": "2023-07-18T11:42:06.604315",
     "status": "completed"
    },
    "tags": []
   },
   "source": [
    "**Summary of question 1**\n",
    "After our data manipulation the data has been cleaned and is now ready for visualization and building the ML model. To ensure that the data fit the description in the table we executed different data techniques on the columns. The following describes the techniques used on the dataset to clean the data, count and impute the missing values.\n",
    "* Firstly, the .info() was used to look at the data types of the differetn columns.\n",
    "* The data was inspected for negative values as such valus could skew the analysis.\n",
    "* In the 'category' column, we used the value counts method to verify the counts of the different variables in the column. For the missing values in the column, we imputed the string 'unknown' to the missing values. The were 13 missing values in the column and the missing values were stored as '-'. \n",
    "* The day_of_week column had the days recorded in different nomenclature. For example, the first day of the week was store as both 'Monday' and 'Mon', this meant the the same day was now double recorded. To rectify this, we wrote a function using the 'str.replace' method to the change full weekday name to its abbreviated version, example, 'Monday' was 'Mon', 'Wednesday' was stored as 'Wed' etc. Friday was stored both as 'Fri.'(note the punctuation) and 'Fri', the same str.replace technique in the function was used to convert the day to its abbreviated form ('Fri').\n",
    "* Inspected the 'days_before' column to ensure that the minimum value was 1. It would be impossible to have a negative number for a registration date so we want to ensure that there were no negative values in that column.\n",
    "* The weight column had twenty missing values, these values were imputed by using the overall mean of the column to preserve data in the dataset. The more data we can have in the dataset the nome accuracy we can generate in our model. In addition, the values in the column are a float data type rounded to two decimal places.\n",
    "* The attended column was inspected to ensure that the values in the column was either 1(attended the class) or 0(did not attend the class). No missing values were found in the column\n",
    "* No change were made to the 'time' column. Data was recorded accurately in the table\n"
   ]
  },
  {
   "cell_type": "markdown",
   "id": "fa6372d3",
   "metadata": {
    "papermill": {
     "duration": 0.017468,
     "end_time": "2023-07-18T11:42:06.656920",
     "exception": false,
     "start_time": "2023-07-18T11:42:06.639452",
     "status": "completed"
    },
    "tags": []
   },
   "source": [
    "****"
   ]
  },
  {
   "cell_type": "markdown",
   "id": "5c8bb433",
   "metadata": {
    "papermill": {
     "duration": 0.017133,
     "end_time": "2023-07-18T11:42:06.691602",
     "exception": false,
     "start_time": "2023-07-18T11:42:06.674469",
     "status": "completed"
    },
    "tags": []
   },
   "source": [
    "**Business question 2**\n",
    "Create a visualization that shows how many bookings attended the class. Use the\n",
    "visualization to:\n",
    "a. State which category of the variable attended has the most observations\n",
    "b. Explain whether the observations are balanced across categories of the\n",
    "variable attended"
   ]
  },
  {
   "cell_type": "markdown",
   "id": "3eeb3754",
   "metadata": {
    "papermill": {
     "duration": 0.017321,
     "end_time": "2023-07-18T11:42:06.726680",
     "exception": false,
     "start_time": "2023-07-18T11:42:06.709359",
     "status": "completed"
    },
    "tags": []
   },
   "source": [
    "**Data Visualization**"
   ]
  },
  {
   "cell_type": "code",
   "execution_count": 12,
   "id": "51baa58d",
   "metadata": {
    "execution": {
     "iopub.execute_input": "2023-07-18T11:42:06.764312Z",
     "iopub.status.busy": "2023-07-18T11:42:06.763306Z",
     "iopub.status.idle": "2023-07-18T11:42:06.777563Z",
     "shell.execute_reply": "2023-07-18T11:42:06.776527Z"
    },
    "papermill": {
     "duration": 0.035592,
     "end_time": "2023-07-18T11:42:06.779955",
     "exception": false,
     "start_time": "2023-07-18T11:42:06.744363",
     "status": "completed"
    },
    "tags": []
   },
   "outputs": [
    {
     "data": {
      "text/html": [
       "<div>\n",
       "<style scoped>\n",
       "    .dataframe tbody tr th:only-of-type {\n",
       "        vertical-align: middle;\n",
       "    }\n",
       "\n",
       "    .dataframe tbody tr th {\n",
       "        vertical-align: top;\n",
       "    }\n",
       "\n",
       "    .dataframe thead th {\n",
       "        text-align: right;\n",
       "    }\n",
       "</style>\n",
       "<table border=\"1\" class=\"dataframe\">\n",
       "  <thead>\n",
       "    <tr style=\"text-align: right;\">\n",
       "      <th></th>\n",
       "      <th>booking_id</th>\n",
       "      <th>months_as_member</th>\n",
       "      <th>weight</th>\n",
       "      <th>days_before</th>\n",
       "      <th>day_of_week</th>\n",
       "      <th>time</th>\n",
       "      <th>category</th>\n",
       "      <th>attended</th>\n",
       "    </tr>\n",
       "  </thead>\n",
       "  <tbody>\n",
       "    <tr>\n",
       "      <th>0</th>\n",
       "      <td>1</td>\n",
       "      <td>17</td>\n",
       "      <td>79.56</td>\n",
       "      <td>8</td>\n",
       "      <td>Wed</td>\n",
       "      <td>PM</td>\n",
       "      <td>Strength</td>\n",
       "      <td>0</td>\n",
       "    </tr>\n",
       "    <tr>\n",
       "      <th>1</th>\n",
       "      <td>2</td>\n",
       "      <td>10</td>\n",
       "      <td>79.01</td>\n",
       "      <td>2</td>\n",
       "      <td>Mon</td>\n",
       "      <td>AM</td>\n",
       "      <td>HIIT</td>\n",
       "      <td>0</td>\n",
       "    </tr>\n",
       "    <tr>\n",
       "      <th>2</th>\n",
       "      <td>3</td>\n",
       "      <td>16</td>\n",
       "      <td>74.53</td>\n",
       "      <td>14</td>\n",
       "      <td>Sun</td>\n",
       "      <td>AM</td>\n",
       "      <td>Strength</td>\n",
       "      <td>0</td>\n",
       "    </tr>\n",
       "    <tr>\n",
       "      <th>3</th>\n",
       "      <td>4</td>\n",
       "      <td>5</td>\n",
       "      <td>86.12</td>\n",
       "      <td>10</td>\n",
       "      <td>Fri</td>\n",
       "      <td>AM</td>\n",
       "      <td>Cycling</td>\n",
       "      <td>0</td>\n",
       "    </tr>\n",
       "    <tr>\n",
       "      <th>4</th>\n",
       "      <td>5</td>\n",
       "      <td>15</td>\n",
       "      <td>69.29</td>\n",
       "      <td>8</td>\n",
       "      <td>Thu</td>\n",
       "      <td>AM</td>\n",
       "      <td>HIIT</td>\n",
       "      <td>0</td>\n",
       "    </tr>\n",
       "  </tbody>\n",
       "</table>\n",
       "</div>"
      ],
      "text/plain": [
       "   booking_id  months_as_member  weight days_before day_of_week time  \\\n",
       "0           1                17   79.56           8         Wed   PM   \n",
       "1           2                10   79.01           2         Mon   AM   \n",
       "2           3                16   74.53          14         Sun   AM   \n",
       "3           4                 5   86.12          10         Fri   AM   \n",
       "4           5                15   69.29           8         Thu   AM   \n",
       "\n",
       "   category  attended  \n",
       "0  Strength         0  \n",
       "1      HIIT         0  \n",
       "2  Strength         0  \n",
       "3   Cycling         0  \n",
       "4      HIIT         0  "
      ]
     },
     "execution_count": 12,
     "metadata": {},
     "output_type": "execute_result"
    }
   ],
   "source": [
    "#Viewing the dataset\n",
    "df.head()"
   ]
  },
  {
   "cell_type": "markdown",
   "id": "dbecba1d",
   "metadata": {
    "papermill": {
     "duration": 0.017686,
     "end_time": "2023-07-18T11:42:06.816469",
     "exception": false,
     "start_time": "2023-07-18T11:42:06.798783",
     "status": "completed"
    },
    "tags": []
   },
   "source": [
    "We are going to look at the distribution of attendace within the dataset. We filter the 'attended' column to show only calsses that were attended, i.e that the variable in the attended column was equal to 1"
   ]
  },
  {
   "cell_type": "code",
   "execution_count": 13,
   "id": "65d7adb2",
   "metadata": {
    "execution": {
     "iopub.execute_input": "2023-07-18T11:42:06.854739Z",
     "iopub.status.busy": "2023-07-18T11:42:06.854264Z",
     "iopub.status.idle": "2023-07-18T11:42:07.199958Z",
     "shell.execute_reply": "2023-07-18T11:42:07.198625Z"
    },
    "papermill": {
     "duration": 0.368261,
     "end_time": "2023-07-18T11:42:07.202773",
     "exception": false,
     "start_time": "2023-07-18T11:42:06.834512",
     "status": "completed"
    },
    "tags": []
   },
   "outputs": [
    {
     "data": {
      "image/png": "[encoded data removed]",
      "text/plain": [
       "<Figure size 800x600 with 1 Axes>"
      ]
     },
     "metadata": {},
     "output_type": "display_data"
    }
   ],
   "source": [
    "#Filter the dataset to classes with attendance\n",
    "attendance= df[df['attended'] == 1]\n",
    "\n",
    "#Create a countplot of class attendance by category\n",
    "plt.figure(figsize=(8,6))\n",
    "sns.countplot(data=attendance, x= 'category', palette= 'Blues')\n",
    "sns.despine()\n",
    "plt.title(\"Class Attendance By Category\")\n",
    "plt.show()\n",
    "\n"
   ]
  },
  {
   "cell_type": "code",
   "execution_count": 14,
   "id": "fde6de2a",
   "metadata": {
    "execution": {
     "iopub.execute_input": "2023-07-18T11:42:07.243088Z",
     "iopub.status.busy": "2023-07-18T11:42:07.242680Z",
     "iopub.status.idle": "2023-07-18T11:42:07.490879Z",
     "shell.execute_reply": "2023-07-18T11:42:07.489520Z"
    },
    "papermill": {
     "duration": 0.272678,
     "end_time": "2023-07-18T11:42:07.494239",
     "exception": false,
     "start_time": "2023-07-18T11:42:07.221561",
     "status": "completed"
    },
    "tags": []
   },
   "outputs": [
    {
     "data": {
      "image/png": "[encoded data removed]",
      "text/plain": [
       "<Figure size 800x800 with 1 Axes>"
      ]
     },
     "metadata": {},
     "output_type": "display_data"
    }
   ],
   "source": [
    "#add a pie chart to show that distribution of the category\n",
    "category_values = attendance['category'].value_counts()\n",
    "\n",
    "sorted_category_values= category_values.sort_values(ascending= False)\n",
    "\n",
    "#Create pie chart\n",
    "plt.figure(figsize=(8,8))\n",
    "sns.set_palette(\"Paired\")\n",
    "plt.pie(sorted_category_values, labels= sorted_category_values.index, autopct='%1.1f%%')\n",
    "plt.title('Percentage Distribution Of the Categories for Attendance')\n",
    "plt.show()"
   ]
  },
  {
   "cell_type": "markdown",
   "id": "d03dca14",
   "metadata": {
    "papermill": {
     "duration": 0.019058,
     "end_time": "2023-07-18T11:42:07.533014",
     "exception": false,
     "start_time": "2023-07-18T11:42:07.513956",
     "status": "completed"
    },
    "tags": []
   },
   "source": [
    "The HIIT classes had the highest attendace rate of all the categories. Additionally, only 0.4% has not been recoreded to a category which should have no statistical siginificance on the model. Aqua classes had the lowest attendance rate of the recoreded classes."
   ]
  },
  {
   "cell_type": "markdown",
   "id": "cce9841b",
   "metadata": {
    "papermill": {
     "duration": 0.018987,
     "end_time": "2023-07-18T11:42:07.571652",
     "exception": false,
     "start_time": "2023-07-18T11:42:07.552665",
     "status": "completed"
    },
    "tags": []
   },
   "source": [
    "The below code illustrated the percentage distribution of attended versus unattended classes. We see that the attendance rate is disporportionate with the highest percentage of 70% being help by unattendace."
   ]
  },
  {
   "cell_type": "code",
   "execution_count": 15,
   "id": "64e51192",
   "metadata": {
    "execution": {
     "iopub.execute_input": "2023-07-18T11:42:07.611828Z",
     "iopub.status.busy": "2023-07-18T11:42:07.611427Z",
     "iopub.status.idle": "2023-07-18T11:42:07.619926Z",
     "shell.execute_reply": "2023-07-18T11:42:07.618614Z"
    },
    "papermill": {
     "duration": 0.032474,
     "end_time": "2023-07-18T11:42:07.623294",
     "exception": false,
     "start_time": "2023-07-18T11:42:07.590820",
     "status": "completed"
    },
    "tags": []
   },
   "outputs": [
    {
     "name": "stdout",
     "output_type": "stream",
     "text": [
      "Percentage of attended classes: 30.266666666666666\n",
      "Percentage of unattended classes: 69.73333333333333\n"
     ]
    }
   ],
   "source": [
    "#Sum the number of classes attended vs unattended\n",
    "attended_count = (df['attended']==1).sum()\n",
    "unattended_count= (df['attended']==0).sum()\n",
    "\n",
    "#Find the percentages of attended versus unattended classes\n",
    "attended_percentages= (attended_count /len(df['attended']))*100\n",
    "unattended_percentages= (unattended_count /len(df['attended']))*100\n",
    "\n",
    "#Print attendance & unattendance percentages\n",
    "print(f'Percentage of attended classes:', attended_percentages)\n",
    "print(f'Percentage of unattended classes:', unattended_percentages)"
   ]
  },
  {
   "cell_type": "markdown",
   "id": "91513b74",
   "metadata": {
    "papermill": {
     "duration": 0.019541,
     "end_time": "2023-07-18T11:42:07.662313",
     "exception": false,
     "start_time": "2023-07-18T11:42:07.642772",
     "status": "completed"
    },
    "tags": []
   },
   "source": [
    "70% if the dataset is not attending the classes"
   ]
  },
  {
   "cell_type": "code",
   "execution_count": 16,
   "id": "f99b8c51",
   "metadata": {
    "execution": {
     "iopub.execute_input": "2023-07-18T11:42:07.703479Z",
     "iopub.status.busy": "2023-07-18T11:42:07.702355Z",
     "iopub.status.idle": "2023-07-18T11:42:07.975220Z",
     "shell.execute_reply": "2023-07-18T11:42:07.974072Z"
    },
    "papermill": {
     "duration": 0.295923,
     "end_time": "2023-07-18T11:42:07.977600",
     "exception": false,
     "start_time": "2023-07-18T11:42:07.681677",
     "status": "completed"
    },
    "tags": []
   },
   "outputs": [
    {
     "data": {
      "image/png": "[encoded data removed]",
      "text/plain": [
       "<Figure size 800x600 with 1 Axes>"
      ]
     },
     "metadata": {},
     "output_type": "display_data"
    }
   ],
   "source": [
    "#Filter the dataset to classes with attendance\n",
    "unattendance= df[df['attended'] == 0]\n",
    "\n",
    "plt.figure(figsize=(8,6))\n",
    "sns.countplot(data=unattendance, x= 'category', palette= 'Blues')\n",
    "sns.despine()\n",
    "plt.title(\"Class Unattendance By Category\")\n",
    "plt.show()\n"
   ]
  },
  {
   "cell_type": "markdown",
   "id": "819b9676",
   "metadata": {
    "papermill": {
     "duration": 0.021201,
     "end_time": "2023-07-18T11:42:08.018875",
     "exception": false,
     "start_time": "2023-07-18T11:42:07.997674",
     "status": "completed"
    },
    "tags": []
   },
   "source": [
    "The following code shows the unattended rates for their respective categories"
   ]
  },
  {
   "cell_type": "code",
   "execution_count": 17,
   "id": "8ae87af4",
   "metadata": {
    "execution": {
     "iopub.execute_input": "2023-07-18T11:42:08.060755Z",
     "iopub.status.busy": "2023-07-18T11:42:08.060281Z",
     "iopub.status.idle": "2023-07-18T11:42:08.298160Z",
     "shell.execute_reply": "2023-07-18T11:42:08.296881Z"
    },
    "papermill": {
     "duration": 0.26196,
     "end_time": "2023-07-18T11:42:08.300810",
     "exception": false,
     "start_time": "2023-07-18T11:42:08.038850",
     "status": "completed"
    },
    "tags": []
   },
   "outputs": [
    {
     "data": {
      "image/png": "[encoded data removed]",
      "text/plain": [
       "<Figure size 800x800 with 1 Axes>"
      ]
     },
     "metadata": {},
     "output_type": "display_data"
    }
   ],
   "source": [
    "unattended_category_values = unattendance['category'].value_counts()\n",
    "\n",
    "unattended_sorted_category_values= unattended_category_values.sort_values(ascending= False)\n",
    "\n",
    "#Create pie char\n",
    "plt.figure(figsize=(8,8))\n",
    "sns.set_palette(\"Paired\")\n",
    "plt.pie(unattended_sorted_category_values, labels= unattended_sorted_category_values.index, autopct='%1.1f%%')\n",
    "plt.title('Percentage Distribution Of the Categories for Unattendance')\n",
    "plt.show()"
   ]
  },
  {
   "cell_type": "markdown",
   "id": "b447a015",
   "metadata": {
    "papermill": {
     "duration": 0.020579,
     "end_time": "2023-07-18T11:42:08.342057",
     "exception": false,
     "start_time": "2023-07-18T11:42:08.321478",
     "status": "completed"
    },
    "tags": []
   },
   "source": [
    "**Summary Business Question 2**\n",
    "There are several obseravtions that are supported by the data. Some of the observations include:\n",
    "* HIIt and Cycling classes have the highest rate of attendance and non-attendace\n",
    "* The data is not balanced across categories in the attended variable. HIIt clases take up almost 50% of the percentage distribution in both the unattended and attended variables.\n",
    "* Approixmately 70% of the data is coming from unattendace(0)\n"
   ]
  },
  {
   "cell_type": "markdown",
   "id": "982ff82f",
   "metadata": {
    "papermill": {
     "duration": 0.020962,
     "end_time": "2023-07-18T11:42:08.383639",
     "exception": false,
     "start_time": "2023-07-18T11:42:08.362677",
     "status": "completed"
    },
    "tags": []
   },
   "source": [
    "**Business Question 3**\n",
    "Describe the distribution of the number of months as a member. Your answer must include a visualization that shows the distribution."
   ]
  },
  {
   "cell_type": "code",
   "execution_count": 18,
   "id": "ba3ade0c",
   "metadata": {
    "execution": {
     "iopub.execute_input": "2023-07-18T11:42:08.428006Z",
     "iopub.status.busy": "2023-07-18T11:42:08.427028Z",
     "iopub.status.idle": "2023-07-18T11:42:08.442158Z",
     "shell.execute_reply": "2023-07-18T11:42:08.441070Z"
    },
    "papermill": {
     "duration": 0.03997,
     "end_time": "2023-07-18T11:42:08.444483",
     "exception": false,
     "start_time": "2023-07-18T11:42:08.404513",
     "status": "completed"
    },
    "tags": []
   },
   "outputs": [
    {
     "data": {
      "text/html": [
       "<div>\n",
       "<style scoped>\n",
       "    .dataframe tbody tr th:only-of-type {\n",
       "        vertical-align: middle;\n",
       "    }\n",
       "\n",
       "    .dataframe tbody tr th {\n",
       "        vertical-align: top;\n",
       "    }\n",
       "\n",
       "    .dataframe thead th {\n",
       "        text-align: right;\n",
       "    }\n",
       "</style>\n",
       "<table border=\"1\" class=\"dataframe\">\n",
       "  <thead>\n",
       "    <tr style=\"text-align: right;\">\n",
       "      <th></th>\n",
       "      <th>booking_id</th>\n",
       "      <th>months_as_member</th>\n",
       "      <th>weight</th>\n",
       "      <th>days_before</th>\n",
       "      <th>day_of_week</th>\n",
       "      <th>time</th>\n",
       "      <th>category</th>\n",
       "      <th>attended</th>\n",
       "    </tr>\n",
       "  </thead>\n",
       "  <tbody>\n",
       "    <tr>\n",
       "      <th>0</th>\n",
       "      <td>1</td>\n",
       "      <td>17</td>\n",
       "      <td>79.56</td>\n",
       "      <td>8</td>\n",
       "      <td>Wed</td>\n",
       "      <td>PM</td>\n",
       "      <td>Strength</td>\n",
       "      <td>0</td>\n",
       "    </tr>\n",
       "    <tr>\n",
       "      <th>1</th>\n",
       "      <td>2</td>\n",
       "      <td>10</td>\n",
       "      <td>79.01</td>\n",
       "      <td>2</td>\n",
       "      <td>Mon</td>\n",
       "      <td>AM</td>\n",
       "      <td>HIIT</td>\n",
       "      <td>0</td>\n",
       "    </tr>\n",
       "    <tr>\n",
       "      <th>2</th>\n",
       "      <td>3</td>\n",
       "      <td>16</td>\n",
       "      <td>74.53</td>\n",
       "      <td>14</td>\n",
       "      <td>Sun</td>\n",
       "      <td>AM</td>\n",
       "      <td>Strength</td>\n",
       "      <td>0</td>\n",
       "    </tr>\n",
       "    <tr>\n",
       "      <th>3</th>\n",
       "      <td>4</td>\n",
       "      <td>5</td>\n",
       "      <td>86.12</td>\n",
       "      <td>10</td>\n",
       "      <td>Fri</td>\n",
       "      <td>AM</td>\n",
       "      <td>Cycling</td>\n",
       "      <td>0</td>\n",
       "    </tr>\n",
       "    <tr>\n",
       "      <th>4</th>\n",
       "      <td>5</td>\n",
       "      <td>15</td>\n",
       "      <td>69.29</td>\n",
       "      <td>8</td>\n",
       "      <td>Thu</td>\n",
       "      <td>AM</td>\n",
       "      <td>HIIT</td>\n",
       "      <td>0</td>\n",
       "    </tr>\n",
       "  </tbody>\n",
       "</table>\n",
       "</div>"
      ],
      "text/plain": [
       "   booking_id  months_as_member  weight days_before day_of_week time  \\\n",
       "0           1                17   79.56           8         Wed   PM   \n",
       "1           2                10   79.01           2         Mon   AM   \n",
       "2           3                16   74.53          14         Sun   AM   \n",
       "3           4                 5   86.12          10         Fri   AM   \n",
       "4           5                15   69.29           8         Thu   AM   \n",
       "\n",
       "   category  attended  \n",
       "0  Strength         0  \n",
       "1      HIIT         0  \n",
       "2  Strength         0  \n",
       "3   Cycling         0  \n",
       "4      HIIT         0  "
      ]
     },
     "execution_count": 18,
     "metadata": {},
     "output_type": "execute_result"
    }
   ],
   "source": [
    "df.head()"
   ]
  },
  {
   "cell_type": "code",
   "execution_count": 19,
   "id": "537036c7",
   "metadata": {
    "execution": {
     "iopub.execute_input": "2023-07-18T11:42:08.489503Z",
     "iopub.status.busy": "2023-07-18T11:42:08.488631Z",
     "iopub.status.idle": "2023-07-18T11:42:08.969998Z",
     "shell.execute_reply": "2023-07-18T11:42:08.968737Z"
    },
    "papermill": {
     "duration": 0.506527,
     "end_time": "2023-07-18T11:42:08.972417",
     "exception": false,
     "start_time": "2023-07-18T11:42:08.465890",
     "status": "completed"
    },
    "tags": []
   },
   "outputs": [
    {
     "data": {
      "image/png": "[encoded data removed]",
      "text/plain": [
       "<Figure size 800x800 with 1 Axes>"
      ]
     },
     "metadata": {},
     "output_type": "display_data"
    }
   ],
   "source": [
    "#Create a histplot, set labels and title\n",
    "plt.figure(figsize=(8,8))\n",
    "sns.histplot(data=df, x='months_as_member')\n",
    "plt.xlabel('Months as member')\n",
    "plt.ylabel('Count')\n",
    "plt.title('Distribution of Months as Member')\n",
    "\n",
    "#Show plot\n",
    "plt.show()"
   ]
  },
  {
   "cell_type": "markdown",
   "id": "d1dd4f70",
   "metadata": {
    "papermill": {
     "duration": 0.022509,
     "end_time": "2023-07-18T11:42:09.016254",
     "exception": false,
     "start_time": "2023-07-18T11:42:08.993745",
     "status": "completed"
    },
    "tags": []
   },
   "source": [
    "**Summary of Business Question 3**\n",
    "The distribution of the months are right skewed with most of the members having memberships between 0-20months. \n",
    "When the data is right-skewed, it means that the majority of the data points are concentrated towards the left or lower values, while the right or higher values have a longer tail. In addition, right skewed data also implies that:\n",
    "* The mean is typically greater than the median.\n",
    "* The tail of the distribution extends towards the higher values.\n",
    "* The majority of the data points are located towards the lower values, with fewer data points in the higher range.\n",
    "* The distribution is positively skewed.\n",
    "When encountering skewed data, it is important to explore data transformations to help scale the data and reduce the likelihood of skewed results in the model\n",
    "\n"
   ]
  },
  {
   "cell_type": "markdown",
   "id": "57181dc1",
   "metadata": {
    "papermill": {
     "duration": 0.021065,
     "end_time": "2023-07-18T11:42:09.058760",
     "exception": false,
     "start_time": "2023-07-18T11:42:09.037695",
     "status": "completed"
    },
    "tags": []
   },
   "source": [
    "**Business question 4**\n",
    "Describe the relationship between attendance and number of months as a member.\n",
    "Your answer must include a visualization to demonstrate the relationship.\n",
    "\n"
   ]
  },
  {
   "cell_type": "code",
   "execution_count": 20,
   "id": "e308edbf",
   "metadata": {
    "execution": {
     "iopub.execute_input": "2023-07-18T11:42:09.103395Z",
     "iopub.status.busy": "2023-07-18T11:42:09.102957Z",
     "iopub.status.idle": "2023-07-18T11:42:09.484049Z",
     "shell.execute_reply": "2023-07-18T11:42:09.482880Z"
    },
    "papermill": {
     "duration": 0.406764,
     "end_time": "2023-07-18T11:42:09.486734",
     "exception": false,
     "start_time": "2023-07-18T11:42:09.079970",
     "status": "completed"
    },
    "tags": []
   },
   "outputs": [
    {
     "name": "stderr",
     "output_type": "stream",
     "text": [
      "/tmp/ipykernel_20/4213374624.py:6: FutureWarning: The default value of numeric_only in DataFrame.corr is deprecated. In a future version, it will default to False. Select only valid columns or specify the value of numeric_only to silence this warning.\n",
      "  sns.heatmap(df.corr(), annot=True, cmap= 'YlGnBu')\n"
     ]
    },
    {
     "data": {
      "image/png": "[encoded data removed]",
      "text/plain": [
       "<Figure size 800x800 with 2 Axes>"
      ]
     },
     "metadata": {},
     "output_type": "display_data"
    }
   ],
   "source": [
    "#Plotting a heatmap to look at the relationship between the variables\n",
    "#To answer this business question we are looking at the relationship between 'month_as_member' & 'attended' columns\n",
    "\n",
    "#Plotting the heatmap\n",
    "plt.figure(figsize=(8,8))\n",
    "sns.heatmap(df.corr(), annot=True, cmap= 'YlGnBu')\n",
    "plt.show()"
   ]
  },
  {
   "cell_type": "markdown",
   "id": "a467abdd",
   "metadata": {
    "papermill": {
     "duration": 0.024847,
     "end_time": "2023-07-18T11:42:09.534096",
     "exception": false,
     "start_time": "2023-07-18T11:42:09.509249",
     "status": "completed"
    },
    "tags": []
   },
   "source": [
    "**Summary of business question 4**\n",
    "We use a heatmap to examine the relationship between the 'attended' and the 'month_as_member' variables. The results of the heatmap indicate that there is a .49 correlation coefficient between those variables. The range of correlation coefficients is between -1 and +1, where -1 represents a strong negative relationship, +1 represents a strong positive relationship, and 0 indicates no correlation. A coefficient of 0.49 indicates a moderate to moderately strong positive relationship, meaning that there is a tendency for the variables to increase or decrease together, but not necessarily in a perfectly linear manner. \n"
   ]
  },
  {
   "cell_type": "markdown",
   "id": "9de40038",
   "metadata": {
    "papermill": {
     "duration": 0.022146,
     "end_time": "2023-07-18T11:42:09.579579",
     "exception": false,
     "start_time": "2023-07-18T11:42:09.557433",
     "status": "completed"
    },
    "tags": []
   },
   "source": [
    "**Business question 5**\n",
    "The business wants to predict whether members will attend using the data provided.\n",
    "State the type of machine learning problem that this is (regression/ classification/\n",
    "clustering).\n",
    "\n",
    "**Answer**\n",
    "The problem of predicting whether members will attend or not using the provided data is a classification problem in machine learning. Classification is a type of supervised learning problem where the goal is to predict the class or category of a given input based on its features. In this case, the goal is to predict whether a member will attend or not, which is a binary classification problem. By training a classification model on the available data, the model can learn patterns and relationships between the features and the class labels. \n",
    "\n"
   ]
  },
  {
   "cell_type": "markdown",
   "id": "ada478b9",
   "metadata": {
    "papermill": {
     "duration": 0.022336,
     "end_time": "2023-07-18T11:42:09.624505",
     "exception": false,
     "start_time": "2023-07-18T11:42:09.602169",
     "status": "completed"
    },
    "tags": []
   },
   "source": [
    "The following code preesnts the answers for:\n",
    "\n",
    "**Business question 6**\n",
    "Fit a baseline model to predict whether members will attend using the data provided.\n",
    "You must include your code.\n"
   ]
  },
  {
   "cell_type": "markdown",
   "id": "1202c2b4",
   "metadata": {
    "papermill": {
     "duration": 0.022216,
     "end_time": "2023-07-18T11:42:09.669391",
     "exception": false,
     "start_time": "2023-07-18T11:42:09.647175",
     "status": "completed"
    },
    "tags": []
   },
   "source": [
    "The dataset df contains categorical variabels that must be conversted to numerical in order to build the ML model. We will use a one hot enoder to help convert the 'day_of_week column to numerical values in order to build the model."
   ]
  },
  {
   "cell_type": "code",
   "execution_count": 21,
   "id": "c95ea619",
   "metadata": {
    "execution": {
     "iopub.execute_input": "2023-07-18T11:42:09.715846Z",
     "iopub.status.busy": "2023-07-18T11:42:09.715358Z",
     "iopub.status.idle": "2023-07-18T11:42:09.729752Z",
     "shell.execute_reply": "2023-07-18T11:42:09.728944Z"
    },
    "papermill": {
     "duration": 0.040657,
     "end_time": "2023-07-18T11:42:09.732296",
     "exception": false,
     "start_time": "2023-07-18T11:42:09.691639",
     "status": "completed"
    },
    "tags": []
   },
   "outputs": [
    {
     "name": "stdout",
     "output_type": "stream",
     "text": [
      "<class 'pandas.core.frame.DataFrame'>\n",
      "RangeIndex: 1500 entries, 0 to 1499\n",
      "Data columns (total 8 columns):\n",
      " #   Column            Non-Null Count  Dtype  \n",
      "---  ------            --------------  -----  \n",
      " 0   booking_id        1500 non-null   int64  \n",
      " 1   months_as_member  1500 non-null   int64  \n",
      " 2   weight            1500 non-null   float64\n",
      " 3   days_before       1500 non-null   object \n",
      " 4   day_of_week       1500 non-null   object \n",
      " 5   time              1500 non-null   object \n",
      " 6   category          1500 non-null   object \n",
      " 7   attended          1500 non-null   int64  \n",
      "dtypes: float64(1), int64(3), object(4)\n",
      "memory usage: 93.9+ KB\n"
     ]
    }
   ],
   "source": [
    "#Inspecting the dtypes of the various columns. Will have to do some conversion of the dtyoes in order to fit the data into the models\n",
    "df.info()"
   ]
  },
  {
   "cell_type": "code",
   "execution_count": 22,
   "id": "928b8750",
   "metadata": {
    "execution": {
     "iopub.execute_input": "2023-07-18T11:42:09.779299Z",
     "iopub.status.busy": "2023-07-18T11:42:09.778873Z",
     "iopub.status.idle": "2023-07-18T11:42:09.977270Z",
     "shell.execute_reply": "2023-07-18T11:42:09.975903Z"
    },
    "papermill": {
     "duration": 0.225209,
     "end_time": "2023-07-18T11:42:09.980077",
     "exception": false,
     "start_time": "2023-07-18T11:42:09.754868",
     "status": "completed"
    },
    "tags": []
   },
   "outputs": [],
   "source": [
    "#import the LabelEncoder\n",
    "from sklearn.preprocessing import LabelEncoder\n",
    "\n",
    "#Intitialize the encoder\n",
    "label_encoder= LabelEncoder()\n",
    "\n",
    "#Fit and Transform the 'day_of_week' & time column\n",
    "df['day_of_week']= label_encoder.fit_transform(df['day_of_week'])\n",
    "df['time']= label_encoder.fit_transform(df['time'])\n",
    "\n",
    "#Using the map function in order to set numerical variable for the class categories. This way we can reference which numerical value was assigned to which class.\n",
    "df['category']= df['category'].map({'HIIT':1, 'Cycling':2, 'Strength':3, 'Aqua':4, 'Yoga':5,'Unknown':6})\n",
    "\n",
    "#Extracting the numerical part of the strings using strnog manipulation to help convert the 'days_before' column to an integer dtype\n",
    "df['days_before']= df['days_before'].str.extract('(\\d+)').astype('int')\n"
   ]
  },
  {
   "cell_type": "code",
   "execution_count": 23,
   "id": "1fc4073b",
   "metadata": {
    "execution": {
     "iopub.execute_input": "2023-07-18T11:42:10.026910Z",
     "iopub.status.busy": "2023-07-18T11:42:10.026434Z",
     "iopub.status.idle": "2023-07-18T11:42:10.035720Z",
     "shell.execute_reply": "2023-07-18T11:42:10.034399Z"
    },
    "papermill": {
     "duration": 0.035642,
     "end_time": "2023-07-18T11:42:10.038192",
     "exception": false,
     "start_time": "2023-07-18T11:42:10.002550",
     "status": "completed"
    },
    "tags": []
   },
   "outputs": [
    {
     "name": "stdout",
     "output_type": "stream",
     "text": [
      "The data does not contain negative values.\n"
     ]
    }
   ],
   "source": [
    "#Looking for negative values. This string od code would help detect abnormalities in the recorded data, for example, we cannot have a negative weight\n",
    "has_negative= np.any(df < 0)\n",
    "\n",
    "if has_negative:\n",
    "    print(\"The data contains negative values.\")\n",
    "else:\n",
    "    print(\"The data does not contain negative values.\")"
   ]
  },
  {
   "cell_type": "code",
   "execution_count": 24,
   "id": "9a272f59",
   "metadata": {
    "execution": {
     "iopub.execute_input": "2023-07-18T11:42:10.085793Z",
     "iopub.status.busy": "2023-07-18T11:42:10.085363Z",
     "iopub.status.idle": "2023-07-18T11:42:42.171805Z",
     "shell.execute_reply": "2023-07-18T11:42:42.170256Z"
    },
    "papermill": {
     "duration": 32.134661,
     "end_time": "2023-07-18T11:42:42.195770",
     "exception": false,
     "start_time": "2023-07-18T11:42:10.061109",
     "status": "completed"
    },
    "tags": []
   },
   "outputs": [
    {
     "name": "stderr",
     "output_type": "stream",
     "text": [
      "/opt/conda/lib/python3.10/site-packages/sklearn/ensemble/_base.py:166: FutureWarning: `base_estimator` was renamed to `estimator` in version 1.2 and will be removed in 1.4.\n",
      "  warnings.warn(\n",
      "/opt/conda/lib/python3.10/site-packages/sklearn/ensemble/_base.py:166: FutureWarning: `base_estimator` was renamed to `estimator` in version 1.2 and will be removed in 1.4.\n",
      "  warnings.warn(\n",
      "/opt/conda/lib/python3.10/site-packages/sklearn/ensemble/_base.py:166: FutureWarning: `base_estimator` was renamed to `estimator` in version 1.2 and will be removed in 1.4.\n",
      "  warnings.warn(\n"
     ]
    },
    {
     "name": "stdout",
     "output_type": "stream",
     "text": [
      "Bagging KNN model accuracy: 0.74\n",
      "Bagging Logistic Regression model accuracy: 0.77\n",
      "Bagging Random Forest model accuracy: 0.78\n"
     ]
    }
   ],
   "source": [
    "#Import libraries\n",
    "from sklearn.preprocessing import StandardScaler\n",
    "from sklearn.neighbors import KNeighborsClassifier\n",
    "from sklearn.ensemble import RandomForestClassifier, BaggingClassifier\n",
    "from sklearn.linear_model import LogisticRegression\n",
    "from sklearn.metrics import accuracy_score\n",
    "from sklearn.model_selection import train_test_split, KFold, cross_val_score\n",
    "from sklearn.model_selection import GridSearchCV\n",
    "from sklearn.metrics import classification_report, confusion_matrix, accuracy_score\n",
    "from sklearn.metrics import accuracy_score, precision_score, recall_score, f1_score\n",
    "\n",
    "#Split data into features (X) & target variable (y)\n",
    "X= df.drop('attended', axis= 1).values\n",
    "y= df['attended'].values\n",
    "\n",
    "#Train-test split\n",
    "X_train, X_test, y_train, y_test= train_test_split(X,y, test_size=0.2, random_state= 42)\n",
    "\n",
    "# Initialize the StandardScaler\n",
    "scaler = StandardScaler()\n",
    "\n",
    "# Scale the data\n",
    "X_train_scaled = scaler.fit_transform(X_train)\n",
    "X_test_scaled = scaler.transform(X_test)\n",
    "\n",
    "# Initialize the models\n",
    "model_knn = KNeighborsClassifier()\n",
    "model_lr = LogisticRegression()\n",
    "model_rf = RandomForestClassifier()\n",
    "\n",
    "# Define the parameter grids for each model\n",
    "param_grid_knn = {'n_neighbors': [3, 5, 7]}\n",
    "param_grid_lr = {'C': [0.1, 1, 10]}\n",
    "param_grid_rf = {'n_estimators': [100, 200, 300], 'max_depth': [None, 5, 10]}\n",
    "\n",
    "# Perform grid search cross-validation for KNN\n",
    "grid_search_knn = GridSearchCV(estimator=model_knn, param_grid=param_grid_knn, cv=5)\n",
    "grid_search_knn.fit(X_train_scaled, y_train)\n",
    "best_model_knn = grid_search_knn.best_estimator_\n",
    "\n",
    "# Perform grid search cross-validation for Logistic Regression\n",
    "grid_search_lr = GridSearchCV(estimator=model_lr, param_grid=param_grid_lr, cv=5)\n",
    "grid_search_lr.fit(X_train_scaled, y_train)\n",
    "best_model_lr = grid_search_lr.best_estimator_\n",
    "\n",
    "# Perform grid search cross-validation for Random Forest\n",
    "grid_search_rf = GridSearchCV(estimator=model_rf, param_grid=param_grid_rf, cv=5)\n",
    "grid_search_rf.fit(X_train_scaled, y_train)\n",
    "best_model_rf = grid_search_rf.best_estimator_\n",
    "\n",
    "#Initialize the bagging classifier with the best models\n",
    "bagging_knn = BaggingClassifier(base_estimator=best_model_knn, n_estimators=10)\n",
    "bagging_lr = BaggingClassifier(base_estimator=best_model_lr, n_estimators=10)\n",
    "bagging_rf = BaggingClassifier(base_estimator=best_model_rf, n_estimators=10)\n",
    "\n",
    "# Fit the bagging classifiers\n",
    "bagging_knn.fit(X_train_scaled, y_train)\n",
    "bagging_lr.fit(X_train_scaled, y_train)\n",
    "bagging_rf.fit(X_train_scaled, y_train)\n",
    "\n",
    "# Predict on the scaled test data using the bagging classifiers\n",
    "y_pred_bagging_knn = bagging_knn.predict(X_test_scaled)\n",
    "y_pred_bagging_lr = bagging_lr.predict(X_test_scaled)\n",
    "y_pred_bagging_rf = bagging_rf.predict(X_test_scaled)\n",
    "\n",
    "# Calculate accuracy\n",
    "accuracy_bagging_knn = accuracy_score(y_test, y_pred_bagging_knn)\n",
    "accuracy_bagging_lr = accuracy_score(y_test, y_pred_bagging_lr)\n",
    "accuracy_bagging_rf = accuracy_score(y_test, y_pred_bagging_rf)\n",
    "\n",
    "\n",
    "# Predict on the scaled test data using the best models\n",
    "#y_pred_knn = best_model_knn.predict(X_test_scaled)\n",
    "#y_pred_lr = best_model_lr.predict(X_test_scaled)\n",
    "#y_pred_rf = best_model_rf.predict(X_test_scaled)\n",
    "\n",
    "# Calculate accuracy <- This also answers question 7 and shows the comparison of the models\n",
    "#accuracy_knn = accuracy_score(y_test, y_pred_knn)\n",
    "#accuracy_lr = accuracy_score(y_test, y_pred_lr)\n",
    "#accuracy_rf = accuracy_score(y_test, y_pred_rf)\n",
    "\n",
    "# Print the results\n",
    "#print(f\"Best KNN model accuracy: {accuracy_knn:.2f}\")\n",
    "#print(f\"Best Logistic Regression model accuracy: {accuracy_lr:.2f}\")\n",
    "#print(f\"Best Random Forest model accuracy: {accuracy_rf:.2f}\")\n",
    "print(f\"Bagging KNN model accuracy: {accuracy_bagging_knn:.2f}\")\n",
    "print(f\"Bagging Logistic Regression model accuracy: {accuracy_bagging_lr:.2f}\")\n",
    "print(f\"Bagging Random Forest model accuracy: {accuracy_bagging_rf:.2f}\")"
   ]
  },
  {
   "cell_type": "markdown",
   "id": "2526dc9e",
   "metadata": {
    "papermill": {
     "duration": 0.022067,
     "end_time": "2023-07-18T11:42:42.240006",
     "exception": false,
     "start_time": "2023-07-18T11:42:42.217939",
     "status": "completed"
    },
    "tags": []
   },
   "source": [
    "***Buisness question 7****\n",
    "Fit a comparison model to predict whether members will attend using the data\n",
    "provided. You must include your code.\n"
   ]
  },
  {
   "cell_type": "markdown",
   "id": "48e9516d",
   "metadata": {
    "papermill": {
     "duration": 0.021925,
     "end_time": "2023-07-18T11:42:42.284186",
     "exception": false,
     "start_time": "2023-07-18T11:42:42.262261",
     "status": "completed"
    },
    "tags": []
   },
   "source": [
    "Below displays a boxplot for visul comparison of the performance of the models. "
   ]
  },
  {
   "cell_type": "code",
   "execution_count": 25,
   "id": "6f3a624a",
   "metadata": {
    "execution": {
     "iopub.execute_input": "2023-07-18T11:42:42.330943Z",
     "iopub.status.busy": "2023-07-18T11:42:42.330251Z",
     "iopub.status.idle": "2023-07-18T11:42:44.733548Z",
     "shell.execute_reply": "2023-07-18T11:42:44.732401Z"
    },
    "papermill": {
     "duration": 2.429641,
     "end_time": "2023-07-18T11:42:44.736063",
     "exception": false,
     "start_time": "2023-07-18T11:42:42.306422",
     "status": "completed"
    },
    "tags": []
   },
   "outputs": [
    {
     "data": {
      "image/png": "[encoded data removed]",
      "text/plain": [
       "<Figure size 640x480 with 1 Axes>"
      ]
     },
     "metadata": {},
     "output_type": "display_data"
    }
   ],
   "source": [
    "#Model dictionaries\n",
    "models= {\"Logistic Regression\": LogisticRegression(), \"KNN\": KNeighborsClassifier(n_neighbors= 5),\n",
    "        \"Random Forest\": RandomForestClassifier(n_estimators=100)}\n",
    "results= []\n",
    "for model in models.values():\n",
    "    kf= KFold(n_splits=6, random_state=42, shuffle= True)\n",
    "    cv_results= cross_val_score(model, X_train_scaled, y_train, cv=kf)\n",
    "    results.append(cv_results)\n",
    "    \n",
    "plt.boxplot(results, labels= models.keys())\n",
    "plt.show()"
   ]
  },
  {
   "cell_type": "markdown",
   "id": "0a4ef075",
   "metadata": {
    "papermill": {
     "duration": 0.022484,
     "end_time": "2023-07-18T11:42:44.781692",
     "exception": false,
     "start_time": "2023-07-18T11:42:44.759208",
     "status": "completed"
    },
    "tags": []
   },
   "source": [
    "**Summary of business question 6 & 7**\n",
    "Here we created a baseline for our model to predict on based on the information in the dataset. Before we built our model, we had to to perform a series of manipulation on the dataset in order to create the baseline. \n",
    "\n",
    "\n",
    "Here are some bullet notations of techniques applied to the dataset:\n",
    "**Preprocessing**\n",
    "* Preprocessing of the data was crucial as there was a mixture of string and numeric data. For any ML model to be built, the data must possess numeric data types and thus we had to use a Label Encoder in order to change the data types to numerical values. The encoder encoded the string type of the 'days_of_week' to numeric codes, example, Sun was encoded as 0, Mon-1, Tues-2 etc. Remember that in python, the fisrt value in the count is zero(0) and NOT(1) like in natural language. The same technique was applied to the 'time' column, where 'AM' was recorded as 0 and 'PM' as 1.\n",
    "* Mapping was used to map numerical values to the category column for the various classes. This was done this was to keep better track as to what value was attribution to what class. Using the LabelEncoder would not clearly define which numerical value was assigned to which class and would have created issues in understanding the predictions in the model as we would not have been able to keep track of which number represents what class.\n",
    "* String extraction was used on the 'days_before' column to remove the 'days' string that was recorded in the column. In addition, the column was converted to umerical values using the numpy .astype method.\n",
    "\n",
    "**Scaling data**\n",
    "The data in the dataset carried skewed values such as in the 'months_as_member column where the data was heavily right skewed. Skewed data could impact the accuracy of the model and thus the data was scaled to help:\n",
    "**Standardization of Features:** Scaling brings the features to a similar scale, ensuring that they are on a comparable level. This is particularly important when features have different measurement units or scales. Scaling helps avoid bias towards features with higher magnitudes during model training.\n",
    "**Improved Model Performance:** Scaling can improve the performance and convergence of many machine learning algorithms. Some algorithms, such as K-nearest neighbors (KNN) and support vector machines (SVM), are sensitive to the scale of the features. Scaling ensures that all features contribute equally to the model's learning process.\n",
    "**Gradient Descent Optimization:** In optimization algorithms that involve gradient descent, such as linear regression and neural networks, scaling can speed up convergence. Scaling the features helps the algorithm take larger steps towards the minimum and reduces the likelihood of getting stuck in local optima.\n",
    "**Regularization Effects:** Regularization techniques, such as L1 or L2 regularization, penalize large coefficients. Scaling the features prevents certain features from dominating the regularization term, allowing regularization to work more effectively.\n",
    "**Interpretability:** Scaling the features can make the coefficients or feature importance values more interpretable. When features are on a similar scale, it becomes easier to compare the relative importance of different features in the model.\n",
    "\n",
    "Bagging Method: The ensemble methid was applied to the baseline because it improves the performance, stability, and robustness of machine learning models. It is particularly effective in reducing variance, improving generalization, and increasing accuracy. By combining the predictions of multiple models, bagging can enhance the reliability and consistency of the final predictions. In addition, this method was used to try to mitigate the effects of class imbalance in the model; in our exploratory analysis (answere to business question two) we observed that 70% of the data in the 'attended' column(the target variable) was attributed to unattendance whereas only 30% of the variables in the column were recorded as attendance.\n",
    "\n",
    "**Target Variable**\n",
    "The objective of the model is to predict class attendance and thus the 'attended' variable was used as the target variable of the model.\n",
    "\n",
    "**Hyperparameter Tuning**\n",
    " Hyperparameters control the behavior of the models, and fine-tuning them can improve their performance. This feature is part of the resason the KNN model(amongst the others) were chosen as one of the classifiation models to predict on the dataset. The initial creation of the model generated the same accuracy score for all three models, the models required fine-tuning of their hyperparameters to achieve better performance.\n",
    " \n",
    " In conclusion, the Logistic Regressor and Random Forset models performed the best as with accuracy scores of 76% and 78% respectively.\n"
   ]
  },
  {
   "cell_type": "markdown",
   "id": "4d8e84b6",
   "metadata": {
    "papermill": {
     "duration": 0.022417,
     "end_time": "2023-07-18T11:42:44.826686",
     "exception": false,
     "start_time": "2023-07-18T11:42:44.804269",
     "status": "completed"
    },
    "tags": []
   },
   "source": [
    "**Business question 8**\n",
    "Explain why you chose the two models used in parts 6 and 7. \n",
    "\n",
    "I chose the Logistic Regressor and the Random Forest models because they produce the results with the highest accuracy score. In addition, the Logistic Regressor has the added benefit of feature importance should we want to done more analysis as to what are the most importance features in the dataset. "
   ]
  },
  {
   "cell_type": "markdown",
   "id": "16624d6d",
   "metadata": {
    "papermill": {
     "duration": 0.022256,
     "end_time": "2023-07-18T11:42:44.871590",
     "exception": false,
     "start_time": "2023-07-18T11:42:44.849334",
     "status": "completed"
    },
    "tags": []
   },
   "source": [
    "**Business question 9**\n",
    "Compare the performance of the two models used in parts 6 and 7, using any method\n",
    "suitable. You must include your code."
   ]
  },
  {
   "cell_type": "code",
   "execution_count": 26,
   "id": "8746c5ed",
   "metadata": {
    "execution": {
     "iopub.execute_input": "2023-07-18T11:42:44.919105Z",
     "iopub.status.busy": "2023-07-18T11:42:44.918422Z",
     "iopub.status.idle": "2023-07-18T11:42:45.358629Z",
     "shell.execute_reply": "2023-07-18T11:42:45.357447Z"
    },
    "papermill": {
     "duration": 0.466703,
     "end_time": "2023-07-18T11:42:45.360927",
     "exception": false,
     "start_time": "2023-07-18T11:42:44.894224",
     "status": "completed"
    },
    "tags": []
   },
   "outputs": [
    {
     "name": "stderr",
     "output_type": "stream",
     "text": [
      "/opt/conda/lib/python3.10/site-packages/sklearn/linear_model/_logistic.py:458: ConvergenceWarning: lbfgs failed to converge (status=1):\n",
      "STOP: TOTAL NO. of ITERATIONS REACHED LIMIT.\n",
      "\n",
      "Increase the number of iterations (max_iter) or scale the data as shown in:\n",
      "    https://scikit-learn.org/stable/modules/preprocessing.html\n",
      "Please also refer to the documentation for alternative solver options:\n",
      "    https://scikit-learn.org/stable/modules/linear_model.html#logistic-regression\n",
      "  n_iter_i = _check_optimize_result(\n"
     ]
    },
    {
     "name": "stdout",
     "output_type": "stream",
     "text": [
      "These are the scores fot the KNN Model\n",
      "Precision: 0.6666666666666666\n",
      "Recall: 0.3883495145631068\n",
      "F1-score: 0.49079754601226994\n",
      "\n",
      "These are the scores fot the LR Model\n",
      "Precision: 0.7735849056603774\n",
      "Recall: 0.39805825242718446\n",
      "F1-score: 0.5256410256410255\n",
      "\n",
      "These are the scores fot the RF Model\n",
      "Precision: 0.7246376811594203\n",
      "Recall: 0.4854368932038835\n",
      "F1-score: 0.5813953488372093\n",
      "\n"
     ]
    }
   ],
   "source": [
    "# Initialize the models\n",
    "model_knn = KNeighborsClassifier()\n",
    "model_lr = LogisticRegression()\n",
    "model_rf = RandomForestClassifier()\n",
    "\n",
    "#Fit the models\n",
    "# Fit the model with the training data\n",
    "model_knn.fit(X_train, y_train)\n",
    "model_lr.fit(X_train, y_train)\n",
    "model_rf.fit(X_train, y_train)\n",
    "\n",
    "\n",
    "y_pred_knn= model_knn.predict(X_test)\n",
    "y_pred_lr= model_lr.predict(X_test)\n",
    "y_pred_rf= model_rf.predict(X_test)\n",
    "\n",
    "#Calcualte evaluation metrics KNN\n",
    "precision_knn= precision_score(y_test, y_pred_knn)\n",
    "recall_knn= recall_score(y_test, y_pred_knn)\n",
    "f1_score_knn= f1_score(y_test, y_pred_knn)\n",
    "\n",
    "\n",
    "#Calcualte evaluation metrics Logistic Regressor\n",
    "precision_lr= precision_score(y_test, y_pred_lr)\n",
    "recall_lr= recall_score(y_test, y_pred_lr)\n",
    "f1_score_lr= f1_score(y_test, y_pred_lr)\n",
    "\n",
    "#Calcualte evaluation metrics Random Forest\n",
    "precision_rf= precision_score(y_test, y_pred_rf)\n",
    "recall_rf= recall_score(y_test, y_pred_rf)\n",
    "f1_score_rf= f1_score(y_test, y_pred_rf)\n",
    "\n",
    "#Print the evaluation metrics for comparison\n",
    "#KNN\n",
    "print(\"These are the scores fot the KNN Model\")\n",
    "print('Precision:', precision_knn)\n",
    "print('Recall:', recall_knn)\n",
    "print('F1-score:', f1_score_knn)\n",
    "print()\n",
    "\n",
    "#Print the evaluation metrics for comparison\n",
    "#Logistic Regressor\n",
    "print(\"These are the scores fot the LR Model\")\n",
    "print('Precision:', precision_lr)\n",
    "print('Recall:', recall_lr)\n",
    "print('F1-score:', f1_score_lr)\n",
    "print()\n",
    "\n",
    "#Print the evaluation metrics for comparison\n",
    "#Random Forest\n",
    "print(\"These are the scores fot the RF Model\")\n",
    "print('Precision:', precision_rf)\n",
    "print('Recall:', recall_rf)\n",
    "print('F1-score:', f1_score_rf)\n",
    "print()"
   ]
  },
  {
   "cell_type": "markdown",
   "id": "408f2d88",
   "metadata": {
    "papermill": {
     "duration": 0.022587,
     "end_time": "2023-07-18T11:42:45.407714",
     "exception": false,
     "start_time": "2023-07-18T11:42:45.385127",
     "status": "completed"
    },
    "tags": []
   },
   "source": [
    "**Business question 10* Explain which model performs better and why\n",
    "\n",
    "The Random Forest Model performs the best because it has the highest accuracy(business question 6) as well as the best precision, f1 score and recall(business question 10). These metrics are important as beacuse:\n",
    "\n",
    "**Recall:** Also known as sensitivity or true positive rate, is a performance metric that measures the proportion of actual positive samples that are correctly identified as positive by the model. The Random Forest of the other three models predicted accurately 52% of the time as compared to the Logistic Regressor and the KNN model(39% & 38% respectively)\n",
    "\n",
    "**F1-score** The F1 score takes into account both the precision (the proportion of true positive predictions out of all positive predictions) and recall (the proportion of true positive predictions out of all actual positive samples). It balances the trade-off between these two metrics and provides a single score to assess the model's overall performance. The Random Forest had an F1 score of 61% compared to the Logistic Regressor and the KNN(52% & 49% respectively).\n",
    "\n",
    "**Precision** \n",
    "Precision is an important metric because it provides insights into the model's ability to make accurate positive predictions. Precision measures the proportion of true positive predictions out of all positive predictions made by the model. Presicion is an important to know especially when the data may be imbalanced. This means that one class (usually the minority class) has significantly fewer samples than the other class. In such cases, accuracy alone can be misleading. Precision focuses specifically on the positive class, allowing us to evaluate the model's ability to correctly identify positive samples without being affected by the class imbalance. The Random Forest did not have the highest precision score, 75% compared to the 77% of teh Logistic model. \n",
    "\n",
    "**Accuracy**\n",
    "Model accuracy is an important metric in machine learning because it provides a measure of overall correctness or success rate of the model's predictions. Accuracy calculates the proportion of correct predictions out of the total number of predictions made by the model. However, it's important to note that accuracy may not always be the most suitable metric, particularly in scenarios with imbalanced classes or when the costs of false positives and false negatives are significantly different. In such cases, precision, recall, or other domain-specific metrics may be more informative and appropriate. Therefore, it's essential to consider s alongside other evaluation metrics to gain a comprehensive understanding of the model's performance and make informed decisions.\n",
    "\n",
    "\n",
    "Overall, the Random Forest and the best performance in all four metrics compared to the other models. This suggests that is would be the best model to use for predicting class attendance vs unattendace.\n",
    "\n",
    "\n",
    "\n",
    "\n",
    "\n"
   ]
  },
  {
   "cell_type": "code",
   "execution_count": null,
   "id": "a44cff85",
   "metadata": {
    "papermill": {
     "duration": 0.022467,
     "end_time": "2023-07-18T11:42:45.453027",
     "exception": false,
     "start_time": "2023-07-18T11:42:45.430560",
     "status": "completed"
    },
    "tags": []
   },
   "outputs": [],
   "source": []
  }
 ],
 "metadata": {
  "kernelspec": {
   "display_name": "Python 3",
   "language": "python",
   "name": "python3"
  },
  "language_info": {
   "codemirror_mode": {
    "name": "ipython",
    "version": 3
   },
   "file_extension": ".py",
   "mimetype": "text/x-python",
   "name": "python",
   "nbconvert_exporter": "python",
   "pygments_lexer": "ipython3",
   "version": "3.10.12"
  },
  "papermill": {
   "default_parameters": {},
   "duration": 53.821404,
   "end_time": "2023-07-18T11:42:46.499105",
   "environment_variables": {},
   "exception": null,
   "input_path": "__notebook__.ipynb",
   "output_path": "__notebook__.ipynb",
   "parameters": {},
   "start_time": "2023-07-18T11:41:52.677701",
   "version": "2.4.0"
  }
 },
 "nbformat": 4,
 "nbformat_minor": 5
}
