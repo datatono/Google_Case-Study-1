{
 "cells": [
  {
   "cell_type": "code",
   "execution_count": 1,
   "id": "1f0b87d6",
   "metadata": {
    "_cell_guid": "b1076dfc-b9ad-4769-8c92-a6c4dae69d19",
    "_uuid": "8f2839f25d086af736a60e9eeb907d3b93b6e0e5",
    "execution": {
     "iopub.execute_input": "2023-07-15T01:55:59.452481Z",
     "iopub.status.busy": "2023-07-15T01:55:59.451617Z",
     "iopub.status.idle": "2023-07-15T01:55:59.476480Z",
     "shell.execute_reply": "2023-07-15T01:55:59.475406Z"
    },
    "papermill": {
     "duration": 0.034791,
     "end_time": "2023-07-15T01:55:59.479032",
     "exception": false,
     "start_time": "2023-07-15T01:55:59.444241",
     "status": "completed"
    },
    "tags": []
   },
   "outputs": [
    {
     "name": "stdout",
     "output_type": "stream",
     "text": [
      "/kaggle/input/goalzone-fitness-data/ASDS_DatacampFinal_fitness_class_2212_07.13.2023 - fitness_class_2212.csv\n"
     ]
    }
   ],
   "source": [
    "# This Python 3 environment comes with many helpful analytics libraries installed\n",
    "# It is defined by the kaggle/python Docker image: https://github.com/kaggle/docker-python\n",
    "# For example, here's several helpful packages to load\n",
    "\n",
    "import numpy as np # linear algebra\n",
    "import pandas as pd # data processing, CSV file I/O (e.g. pd.read_csv)\n",
    "\n",
    "# Input data files are available in the read-only \"../input/\" directory\n",
    "# For example, running this (by clicking run or pressing Shift+Enter) will list all files under the input directory\n",
    "\n",
    "import os\n",
    "for dirname, _, filenames in os.walk('/kaggle/input'):\n",
    "    for filename in filenames:\n",
    "        print(os.path.join(dirname, filename))\n",
    "\n",
    "# You can write up to 20GB to the current directory (/kaggle/working/) that gets preserved as output when you create a version using \"Save & Run All\" \n",
    "# You can also write temporary files to /kaggle/temp/, but they won't be saved outside of the current session"
   ]
  },
  {
   "cell_type": "markdown",
   "id": "7c64e773",
   "metadata": {
    "papermill": {
     "duration": 0.00461,
     "end_time": "2023-07-15T01:55:59.489033",
     "exception": false,
     "start_time": "2023-07-15T01:55:59.484423",
     "status": "completed"
    },
    "tags": []
   },
   "source": [
    "**Company Background:**\n",
    "GoalZone is a fitness club chain in Canada.\n",
    "GoalZone offers a range of fitness classes in two capacities - 25 and 15.\n",
    "Some classes are always fully booked. Fully booked classes often have a low attendance rate.\n",
    "GoalZone wants to increase the number of spaces available for classes.\n",
    "They want to do this by predicting whether the member will attend the class or not.\n",
    "If they can predict a member will not attend the class, they can make another space\n",
    "availab"
   ]
  },
  {
   "cell_type": "markdown",
   "id": "537e7db8",
   "metadata": {
    "papermill": {
     "duration": 0.004625,
     "end_time": "2023-07-15T01:55:59.498463",
     "exception": false,
     "start_time": "2023-07-15T01:55:59.493838",
     "status": "completed"
    },
    "tags": []
   },
   "source": [
    "**Tasks & Company Questions:**\n",
    "Write your answers in your workspace.\n",
    "1. For every column in the data:\n",
    "    a. State whether the values match the description given in the table above.\n",
    "    b. State the number of missing values in the column.\n",
    "    c. Describe what you did to make values match the description if they did not match.\n",
    "\n",
    "2. Create a visualization that shows how many bookings attended the class. Use the\n",
    "visualization to:\n",
    "a. State which category of the variable attended has the most observations\n",
    "b. Explain whether the observations are balanced across categories of the\n",
    "variable attended\n",
    "\n",
    "3. Describe the distribution of the number of months as a member. Your answer must\n",
    "include a visualization that shows the distribution.\n",
    "\n",
    "4. Describe the relationship between attendance and number of months as a member.\n",
    "Your answer must include a visualization to demonstrate the relationship.\n",
    "\n",
    "5. The business wants to predict whether members will attend using the data provided.\n",
    "State the type of machine learning problem that this is (regression/ classification/\n",
    "clustering).\n",
    "\n",
    "6. Fit a baseline model to predict whether members will attend using the data provided.\n",
    "You must include your code.\n",
    "\n",
    "7. Fit a comparison model to predict whether members will attend using the data\n",
    "provided. You must include your code.\n",
    "\n",
    "8. Explain why you chose the two models used in parts 6 and 7.\n",
    "\n",
    "9. Compare the performance of the two models used in parts 6 and 7, using any method\n",
    "suitable. You must include your code.\n",
    "\n",
    "10. Explain which model performs better and why"
   ]
  },
  {
   "cell_type": "markdown",
   "id": "4405f1b9",
   "metadata": {
    "papermill": {
     "duration": 0.004531,
     "end_time": "2023-07-15T01:55:59.507800",
     "exception": false,
     "start_time": "2023-07-15T01:55:59.503269",
     "status": "completed"
    },
    "tags": []
   },
   "source": [
    "**Loading the necessary libraries and files to begin analysis on the dataset. We will print and view the first 5 rows of the dataset.**"
   ]
  },
  {
   "cell_type": "code",
   "execution_count": 2,
   "id": "596d103d",
   "metadata": {
    "execution": {
     "iopub.execute_input": "2023-07-15T01:55:59.520065Z",
     "iopub.status.busy": "2023-07-15T01:55:59.519103Z",
     "iopub.status.idle": "2023-07-15T01:56:00.950051Z",
     "shell.execute_reply": "2023-07-15T01:56:00.949212Z"
    },
    "papermill": {
     "duration": 1.439771,
     "end_time": "2023-07-15T01:56:00.952317",
     "exception": false,
     "start_time": "2023-07-15T01:55:59.512546",
     "status": "completed"
    },
    "tags": []
   },
   "outputs": [
    {
     "name": "stderr",
     "output_type": "stream",
     "text": [
      "/opt/conda/lib/python3.10/site-packages/scipy/__init__.py:146: UserWarning: A NumPy version >=1.16.5 and <1.23.0 is required for this version of SciPy (detected version 1.23.5\n",
      "  warnings.warn(f\"A NumPy version >={np_minversion} and <{np_maxversion}\"\n"
     ]
    },
    {
     "name": "stdout",
     "output_type": "stream",
     "text": [
      "Number of rows: 1500\n",
      "Number of columns: 8\n"
     ]
    },
    {
     "data": {
      "text/html": [
       "<div>\n",
       "<style scoped>\n",
       "    .dataframe tbody tr th:only-of-type {\n",
       "        vertical-align: middle;\n",
       "    }\n",
       "\n",
       "    .dataframe tbody tr th {\n",
       "        vertical-align: top;\n",
       "    }\n",
       "\n",
       "    .dataframe thead th {\n",
       "        text-align: right;\n",
       "    }\n",
       "</style>\n",
       "<table border=\"1\" class=\"dataframe\">\n",
       "  <thead>\n",
       "    <tr style=\"text-align: right;\">\n",
       "      <th></th>\n",
       "      <th>booking_id</th>\n",
       "      <th>months_as_member</th>\n",
       "      <th>weight</th>\n",
       "      <th>days_before</th>\n",
       "      <th>day_of_week</th>\n",
       "      <th>time</th>\n",
       "      <th>category</th>\n",
       "      <th>attended</th>\n",
       "    </tr>\n",
       "  </thead>\n",
       "  <tbody>\n",
       "    <tr>\n",
       "      <th>0</th>\n",
       "      <td>1</td>\n",
       "      <td>17</td>\n",
       "      <td>79.56</td>\n",
       "      <td>8</td>\n",
       "      <td>Wed</td>\n",
       "      <td>PM</td>\n",
       "      <td>Strength</td>\n",
       "      <td>0</td>\n",
       "    </tr>\n",
       "    <tr>\n",
       "      <th>1</th>\n",
       "      <td>2</td>\n",
       "      <td>10</td>\n",
       "      <td>79.01</td>\n",
       "      <td>2</td>\n",
       "      <td>Mon</td>\n",
       "      <td>AM</td>\n",
       "      <td>HIIT</td>\n",
       "      <td>0</td>\n",
       "    </tr>\n",
       "    <tr>\n",
       "      <th>2</th>\n",
       "      <td>3</td>\n",
       "      <td>16</td>\n",
       "      <td>74.53</td>\n",
       "      <td>14</td>\n",
       "      <td>Sun</td>\n",
       "      <td>AM</td>\n",
       "      <td>Strength</td>\n",
       "      <td>0</td>\n",
       "    </tr>\n",
       "    <tr>\n",
       "      <th>3</th>\n",
       "      <td>4</td>\n",
       "      <td>5</td>\n",
       "      <td>86.12</td>\n",
       "      <td>10</td>\n",
       "      <td>Fri</td>\n",
       "      <td>AM</td>\n",
       "      <td>Cycling</td>\n",
       "      <td>0</td>\n",
       "    </tr>\n",
       "    <tr>\n",
       "      <th>4</th>\n",
       "      <td>5</td>\n",
       "      <td>15</td>\n",
       "      <td>69.29</td>\n",
       "      <td>8</td>\n",
       "      <td>Thu</td>\n",
       "      <td>AM</td>\n",
       "      <td>HIIT</td>\n",
       "      <td>0</td>\n",
       "    </tr>\n",
       "  </tbody>\n",
       "</table>\n",
       "</div>"
      ],
      "text/plain": [
       "   booking_id  months_as_member  weight days_before day_of_week time  \\\n",
       "0           1                17   79.56           8         Wed   PM   \n",
       "1           2                10   79.01           2         Mon   AM   \n",
       "2           3                16   74.53          14         Sun   AM   \n",
       "3           4                 5   86.12          10         Fri   AM   \n",
       "4           5                15   69.29           8         Thu   AM   \n",
       "\n",
       "   category  attended  \n",
       "0  Strength         0  \n",
       "1      HIIT         0  \n",
       "2  Strength         0  \n",
       "3   Cycling         0  \n",
       "4      HIIT         0  "
      ]
     },
     "execution_count": 2,
     "metadata": {},
     "output_type": "execute_result"
    }
   ],
   "source": [
    "#Import libraries\n",
    "import numpy as np\n",
    "import pandas as pd\n",
    "import matplotlib.pyplot as plt\n",
    "import seaborn as sns\n",
    "\n",
    "#Read data\n",
    "df = pd.read_csv('/kaggle/input/goalzone-fitness-data/ASDS_DatacampFinal_fitness_class_2212_07.13.2023 - fitness_class_2212.csv')\n",
    "\n",
    "#Print the number of rows and columns using shape\n",
    "num_rows, num_cols = df.shape\n",
    "print(\"Number of rows:\", num_rows)\n",
    "print(\"Number of columns:\", num_cols)\n",
    "\n",
    "#Quick view of the fist 5 rows of the dataset\n",
    "df.head()"
   ]
  },
  {
   "cell_type": "markdown",
   "id": "c930a7c1",
   "metadata": {
    "papermill": {
     "duration": 0.005004,
     "end_time": "2023-07-15T01:56:00.963084",
     "exception": false,
     "start_time": "2023-07-15T01:56:00.958080",
     "status": "completed"
    },
    "tags": []
   },
   "source": [
    "**Data Validation** The following scripts will address all parts to question one. At the end a summary report will be provided for the question.\n"
   ]
  },
  {
   "cell_type": "markdown",
   "id": "7b381b37",
   "metadata": {
    "papermill": {
     "duration": 0.004927,
     "end_time": "2023-07-15T01:56:00.973364",
     "exception": false,
     "start_time": "2023-07-15T01:56:00.968437",
     "status": "completed"
    },
    "tags": []
   },
   "source": [
    "\n",
    "We will perform data validation to answer these questions from the assignment:\n",
    "1. For every column in the data:\n",
    "    a. State whether the values match the description given in the table above.\n",
    "    b. State the number of missing values in the column.\n",
    "    c. Describe what you did to make values match the description if they did not match."
   ]
  },
  {
   "cell_type": "code",
   "execution_count": 3,
   "id": "18cfd33f",
   "metadata": {
    "execution": {
     "iopub.execute_input": "2023-07-15T01:56:00.985743Z",
     "iopub.status.busy": "2023-07-15T01:56:00.985356Z",
     "iopub.status.idle": "2023-07-15T01:56:00.998460Z",
     "shell.execute_reply": "2023-07-15T01:56:00.997181Z"
    },
    "papermill": {
     "duration": 0.022328,
     "end_time": "2023-07-15T01:56:01.000832",
     "exception": false,
     "start_time": "2023-07-15T01:56:00.978504",
     "status": "completed"
    },
    "tags": []
   },
   "outputs": [
    {
     "name": "stdout",
     "output_type": "stream",
     "text": [
      "Value Counts: HIIT        667\n",
      "Cycling     376\n",
      "Strength    233\n",
      "Yoga        135\n",
      "Aqua         76\n",
      "-            13\n",
      "Name: category, dtype: int64\n",
      "Value Counts: Fri          279\n",
      "Thu          241\n",
      "Mon          218\n",
      "Sun          213\n",
      "Sat          202\n",
      "Tue          195\n",
      "Wed           81\n",
      "Wednesday     35\n",
      "Fri.          26\n",
      "Monday        10\n",
      "Name: day_of_week, dtype: int64\n"
     ]
    }
   ],
   "source": [
    "#Let's validate that the category column fits into the categories from the data description in the \n",
    "#correspondence\n",
    "\n",
    "#Value counts of the categories & weekdays\n",
    "category_counts= df['category'].value_counts()\n",
    "weekday_counts= df['day_of_week'].value_counts()\n",
    "\n",
    "#Print results\n",
    "print(\"Value Counts:\", category_counts)\n",
    "print(\"Value Counts:\", weekday_counts)\n"
   ]
  },
  {
   "cell_type": "markdown",
   "id": "d43c0e91",
   "metadata": {
    "papermill": {
     "duration": 0.005117,
     "end_time": "2023-07-15T01:56:01.011408",
     "exception": false,
     "start_time": "2023-07-15T01:56:01.006291",
     "status": "completed"
    },
    "tags": []
   },
   "source": [
    "**Category column results:** The category counts are validated to be: HIIT, Cycling, Strength, Yoga & Aqua as described in the data description from the correspondence. The category columns contains 13 missing values represented by a '-', we will first replace the '-' with a \"Unknown\" value as a place holder. After our manipulation we will use the value counts method to confirm the changes made.\n",
    "\n",
    "**Day_of_week results: *******The naming conventions within the column is not homogenic. For example, there value for the first day of the week is stored 'Monday' & 'Mon'. They represent the same day but the way they are recorded in the table is splitting the value counts. We will replace these day_of_the_week with the abbrivated version of the day, example, 'Wednesday\" will be converted to 'Wed' to acheive consistency in the data. This will produce more reliable & consistent results.*******\n",
    "\n",
    "**See the below code for the steps taken to execute the task**"
   ]
  },
  {
   "cell_type": "code",
   "execution_count": 4,
   "id": "68b9cc0c",
   "metadata": {
    "execution": {
     "iopub.execute_input": "2023-07-15T01:56:01.024011Z",
     "iopub.status.busy": "2023-07-15T01:56:01.023577Z",
     "iopub.status.idle": "2023-07-15T01:56:01.041242Z",
     "shell.execute_reply": "2023-07-15T01:56:01.040028Z"
    },
    "papermill": {
     "duration": 0.026931,
     "end_time": "2023-07-15T01:56:01.043664",
     "exception": false,
     "start_time": "2023-07-15T01:56:01.016733",
     "status": "completed"
    },
    "tags": []
   },
   "outputs": [
    {
     "name": "stdout",
     "output_type": "stream",
     "text": [
      "Fri    305\n",
      "Thu    241\n",
      "Mon    228\n",
      "Sun    213\n",
      "Sat    202\n",
      "Tue    195\n",
      "Wed    116\n",
      "Name: day_of_week, dtype: int64\n"
     ]
    },
    {
     "name": "stderr",
     "output_type": "stream",
     "text": [
      "/tmp/ipykernel_20/517461217.py:5: FutureWarning: The default value of regex will change from True to False in a future version.\n",
      "  df['day_of_week']= df['day_of_week'].str.replace('Fri.', 'Fri')\n"
     ]
    }
   ],
   "source": [
    "#Function to convert the naming conventions of the days of the week\n",
    "def combine_weekdays(df, day_of_week):\n",
    "    df['day_of_week']= df['day_of_week'].str.replace('Monday', 'Mon')\n",
    "    df['day_of_week']= df['day_of_week'].str.replace('Wednesday', 'Wed')\n",
    "    df['day_of_week']= df['day_of_week'].str.replace('Fri.', 'Fri')\n",
    "    return df\n",
    "\n",
    "df = combine_weekdays(df, 'day of the week')\n",
    "\n",
    "#Print results\n",
    "print(df['day_of_week'].value_counts())\n",
    "\n"
   ]
  },
  {
   "cell_type": "code",
   "execution_count": 5,
   "id": "03ff27ee",
   "metadata": {
    "execution": {
     "iopub.execute_input": "2023-07-15T01:56:01.057571Z",
     "iopub.status.busy": "2023-07-15T01:56:01.056633Z",
     "iopub.status.idle": "2023-07-15T01:56:01.070152Z",
     "shell.execute_reply": "2023-07-15T01:56:01.068894Z"
    },
    "papermill": {
     "duration": 0.022906,
     "end_time": "2023-07-15T01:56:01.072354",
     "exception": false,
     "start_time": "2023-07-15T01:56:01.049448",
     "status": "completed"
    },
    "tags": []
   },
   "outputs": [
    {
     "data": {
      "text/plain": [
       "HIIT        667\n",
       "Cycling     376\n",
       "Strength    233\n",
       "Yoga        135\n",
       "Aqua         76\n",
       "Unknown      13\n",
       "Name: category, dtype: int64"
      ]
     },
     "execution_count": 5,
     "metadata": {},
     "output_type": "execute_result"
    }
   ],
   "source": [
    "#Replacing the string to an NaN value to help removing the missing values\n",
    "df['category']= df['category'].replace('-', 'Unknown')\n",
    "\n",
    "#Checking the missing data in the category column\n",
    "df['category'].isna().sum()\n",
    "\n",
    "#Confirming value counts of the cateogry columns\n",
    "df['category'].value_counts()"
   ]
  },
  {
   "cell_type": "code",
   "execution_count": 6,
   "id": "f5ac4be1",
   "metadata": {
    "execution": {
     "iopub.execute_input": "2023-07-15T01:56:01.086771Z",
     "iopub.status.busy": "2023-07-15T01:56:01.085482Z",
     "iopub.status.idle": "2023-07-15T01:56:01.098103Z",
     "shell.execute_reply": "2023-07-15T01:56:01.097000Z"
    },
    "papermill": {
     "duration": 0.022169,
     "end_time": "2023-07-15T01:56:01.100391",
     "exception": false,
     "start_time": "2023-07-15T01:56:01.078222",
     "status": "completed"
    },
    "tags": []
   },
   "outputs": [
    {
     "data": {
      "text/plain": [
       "booking_id           0\n",
       "months_as_member     0\n",
       "weight              20\n",
       "days_before          0\n",
       "day_of_week          0\n",
       "time                 0\n",
       "category             0\n",
       "attended             0\n",
       "dtype: int64"
      ]
     },
     "execution_count": 6,
     "metadata": {},
     "output_type": "execute_result"
    }
   ],
   "source": [
    "#Check missing data in all the columns\n",
    "df.isna().sum()"
   ]
  },
  {
   "cell_type": "markdown",
   "id": "a6301ac3",
   "metadata": {
    "papermill": {
     "duration": 0.007166,
     "end_time": "2023-07-15T01:56:01.114177",
     "exception": false,
     "start_time": "2023-07-15T01:56:01.107011",
     "status": "completed"
    },
    "tags": []
   },
   "source": [
    "There are 20 missing values in teh weight column. To preserve data and use as many data points as  possible in our analysis, we will impute the average weight to the missing values. See code below:"
   ]
  },
  {
   "cell_type": "code",
   "execution_count": null,
   "id": "61c26dac",
   "metadata": {
    "papermill": {
     "duration": 0.005728,
     "end_time": "2023-07-15T01:56:01.126014",
     "exception": false,
     "start_time": "2023-07-15T01:56:01.120286",
     "status": "completed"
    },
    "tags": []
   },
   "outputs": [],
   "source": []
  }
 ],
 "metadata": {
  "kernelspec": {
   "display_name": "Python 3",
   "language": "python",
   "name": "python3"
  },
  "language_info": {
   "codemirror_mode": {
    "name": "ipython",
    "version": 3
   },
   "file_extension": ".py",
   "mimetype": "text/x-python",
   "name": "python",
   "nbconvert_exporter": "python",
   "pygments_lexer": "ipython3",
   "version": "3.10.12"
  },
  "papermill": {
   "default_parameters": {},
   "duration": 13.846275,
   "end_time": "2023-07-15T01:56:02.055262",
   "environment_variables": {},
   "exception": null,
   "input_path": "__notebook__.ipynb",
   "output_path": "__notebook__.ipynb",
   "parameters": {},
   "start_time": "2023-07-15T01:55:48.208987",
   "version": "2.4.0"
  }
 },
 "nbformat": 4,
 "nbformat_minor": 5
}
